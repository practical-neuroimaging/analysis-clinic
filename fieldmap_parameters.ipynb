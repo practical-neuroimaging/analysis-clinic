{
 "metadata": {
  "name": "",
  "signature": "sha256:7ef67d75dde7211448e6dd4d61c693ced3f980e1bf6ee792c33c0ccce7557ca7"
 },
 "nbformat": 3,
 "nbformat_minor": 0,
 "worksheets": [
  {
   "cells": [
    {
     "cell_type": "markdown",
     "metadata": {},
     "source": [
      "# Getting parameters for fieldmap correction"
     ]
    },
    {
     "cell_type": "markdown",
     "metadata": {},
     "source": [
      "In which we try and work out how to get the parameters we need to enter into further fieldmap processing."
     ]
    },
    {
     "cell_type": "code",
     "collapsed": false,
     "input": [
      "from __future__ import print_function, division"
     ],
     "language": "python",
     "metadata": {},
     "outputs": [],
     "prompt_number": 1
    },
    {
     "cell_type": "code",
     "collapsed": false,
     "input": [
      "import os\n",
      "from os.path import join as pjoin  # join path string on Unix / Windows\n",
      "from glob import glob  # File system globbing as in \"ls *.py\""
     ],
     "language": "python",
     "metadata": {},
     "outputs": [],
     "prompt_number": 2
    },
    {
     "cell_type": "code",
     "collapsed": false,
     "input": [
      "dicom_dir = 'fieldmap_dicoms'\n",
      "print('\\n'.join(os.listdir(dicom_dir)))"
     ],
     "language": "python",
     "metadata": {},
     "outputs": [
      {
       "output_type": "stream",
       "stream": "stdout",
       "text": [
        "ep2d_neuro_250iso_183TRs_6\n",
        "gre_field_mapping_3\n",
        "gre_field_mapping_4\n"
       ]
      }
     ],
     "prompt_number": 3
    },
    {
     "cell_type": "code",
     "collapsed": false,
     "input": [
      "fm_ima1_glob = pjoin(dicom_dir, 'gre_field_mapping_3', '*')\n",
      "fm_ima1_first = glob(fm_ima1_glob)[0]\n",
      "fm_ima1_first"
     ],
     "language": "python",
     "metadata": {},
     "outputs": [
      {
       "metadata": {},
       "output_type": "pyout",
       "prompt_number": 4,
       "text": [
        "'fieldmap_dicoms/gre_field_mapping_3/IM-0003-0001-0001.dcm'"
       ]
      }
     ],
     "prompt_number": 4
    },
    {
     "cell_type": "code",
     "collapsed": false,
     "input": [
      "fm_ima2_glob = pjoin(dicom_dir, 'gre_field_mapping_4', '*')\n",
      "fm_ima2_first = glob(fm_ima2_glob)[0]\n",
      "fm_ima2_first"
     ],
     "language": "python",
     "metadata": {},
     "outputs": [
      {
       "metadata": {},
       "output_type": "pyout",
       "prompt_number": 5,
       "text": [
        "'fieldmap_dicoms/gre_field_mapping_4/IM-0004-0001.dcm'"
       ]
      }
     ],
     "prompt_number": 5
    },
    {
     "cell_type": "code",
     "collapsed": false,
     "input": [
      "epi_glob = pjoin(dicom_dir, 'ep2d_neuro_250iso_183TRs_6', '*')\n",
      "epi_first = glob(epi_glob)[0]\n",
      "epi_first"
     ],
     "language": "python",
     "metadata": {},
     "outputs": [
      {
       "metadata": {},
       "output_type": "pyout",
       "prompt_number": 6,
       "text": [
        "'fieldmap_dicoms/ep2d_neuro_250iso_183TRs_6/IM-0006-0001.dcm'"
       ]
      }
     ],
     "prompt_number": 6
    },
    {
     "cell_type": "code",
     "collapsed": false,
     "input": [
      "import dicom"
     ],
     "language": "python",
     "metadata": {},
     "outputs": [],
     "prompt_number": 7
    },
    {
     "cell_type": "code",
     "collapsed": false,
     "input": [
      "fm1_dcm = dicom.read_file(fm_ima1_first)\n",
      "fm2_dcm = dicom.read_file(fm_ima2_first)\n",
      "epi_dcm = dicom.read_file(epi_first)"
     ],
     "language": "python",
     "metadata": {},
     "outputs": [],
     "prompt_number": 8
    },
    {
     "cell_type": "code",
     "collapsed": false,
     "input": [
      "SHORT_ECHO_TIME = float(fm1_dcm.EchoTime)\n",
      "SHORT_ECHO_TIME"
     ],
     "language": "python",
     "metadata": {},
     "outputs": [
      {
       "metadata": {},
       "output_type": "pyout",
       "prompt_number": 9,
       "text": [
        "4.92"
       ]
      }
     ],
     "prompt_number": 9
    },
    {
     "cell_type": "code",
     "collapsed": false,
     "input": [
      "LONG_ECHO_TIME = float(fm2_dcm.EchoTime)\n",
      "LONG_ECHO_TIME"
     ],
     "language": "python",
     "metadata": {},
     "outputs": [
      {
       "metadata": {},
       "output_type": "pyout",
       "prompt_number": 10,
       "text": [
        "7.38"
       ]
      }
     ],
     "prompt_number": 10
    },
    {
     "cell_type": "code",
     "collapsed": false,
     "input": [
      "epi_dcm.InPlanePhaseEncodingDirection"
     ],
     "language": "python",
     "metadata": {},
     "outputs": [
      {
       "metadata": {},
       "output_type": "pyout",
       "prompt_number": 11,
       "text": [
        "'COL'"
       ]
      }
     ],
     "prompt_number": 11
    },
    {
     "cell_type": "markdown",
     "metadata": {},
     "source": [
      "Which direction 'COL' in an output NIfTI image depends on your DICOM to NIfTI converter.  You can see which direction 'COL' is, in the DICOM, by having a look at the data:"
     ]
    },
    {
     "cell_type": "code",
     "collapsed": false,
     "input": [
      "%matplotlib inline"
     ],
     "language": "python",
     "metadata": {},
     "outputs": [],
     "prompt_number": 12
    },
    {
     "cell_type": "code",
     "collapsed": false,
     "input": [
      "import matplotlib.pyplot as plt"
     ],
     "language": "python",
     "metadata": {},
     "outputs": [],
     "prompt_number": 13
    },
    {
     "cell_type": "code",
     "collapsed": false,
     "input": [
      "plt.imshow(epi_dcm.pixel_array, cmap='gray')"
     ],
     "language": "python",
     "metadata": {},
     "outputs": [
      {
       "metadata": {},
       "output_type": "pyout",
       "prompt_number": 14,
       "text": [
        "<matplotlib.image.AxesImage at 0x1064fcf90>"
       ]
      },
      {
       "metadata": {},
       "output_type": "display_data",
       "png": "[encoded data removed]",
       "text": [
        "<matplotlib.figure.Figure at 0x10645fed0>"
       ]
      }
     ],
     "prompt_number": 14
    },
    {
     "cell_type": "markdown",
     "metadata": {},
     "source": [
      "This is a Siemens Mosaic format image, where all the slices from a single volume are stacked into on slice mosaic in the DICOM: http://nipy.sourceforge.net/nibabel/dicom/dicom_mosaic.html"
     ]
    },
    {
     "cell_type": "markdown",
     "metadata": {},
     "source": [
      "Pydicom returns the `pixel_array` above in a Rows by Columns array.  So 'COL' above also refers to columns (vertical lines) in the array above, and the phase encode direction is either posterior to anterior, or anterior to posterior."
     ]
    },
    {
     "cell_type": "code",
     "collapsed": false,
     "input": [
      "epi_dcm"
     ],
     "language": "python",
     "metadata": {},
     "outputs": [
      {
       "metadata": {},
       "output_type": "pyout",
       "prompt_number": 15,
       "text": [
        "(0008, 0005) Specific Character Set              CS: 'ISO_IR 100'\n",
        "(0008, 0008) Image Type                          CS: ['ORIGINAL', 'PRIMARY', 'M', 'ND', 'NORM', 'MOSAIC']\n",
        "(0008, 0012) Instance Creation Date              DA: '20141219'\n",
        "(0008, 0013) Instance Creation Time              TM: '094448.250000'\n",
        "(0008, 0016) SOP Class UID                       UI: MR Image Storage\n",
        "(0008, 0018) SOP Instance UID                    UI: 1.3.12.2.1107.5.2.32.35328.2014121909434531319728091\n",
        "(0008, 0020) Study Date                          DA: '20141219'\n",
        "(0008, 0021) Series Date                         DA: '20141219'\n",
        "(0008, 0022) Acquisition Date                    DA: '20141219'\n",
        "(0008, 0023) Content Date                        DA: '20141219'\n",
        "(0008, 0030) Study Time                          TM: '091806.296000'\n",
        "(0008, 0031) Series Time                         TM: '094448.250000'\n",
        "(0008, 0032) Acquisition Time                    TM: '094344.715000'\n",
        "(0008, 0033) Content Time                        TM: '094448.250000'\n",
        "(0008, 0050) Accession Number                    SH: ''\n",
        "(0008, 0060) Modality                            CS: 'MR'\n",
        "(0008, 0070) Manufacturer                        LO: 'SIEMENS'\n",
        "(0008, 0080) Institution Name                    LO: 'UC Berkeley'\n",
        "(0008, 0081) Institution Address                 ST: 'Street StreetNo,Berkeley,District,US,ZIP'\n",
        "(0008, 0090) Referring Physician's Name          PN: ''\n",
        "(0008, 1010) Station Name                        SH: 'MRC35328'\n",
        "(0008, 1030) Study Description                   LO: 'Despo Lab^Annelinde'\n",
        "(0008, 103e) Series Description                  LO: 'ep2d_neuro_250iso_183TRs'\n",
        "(0008, 1040) Institutional Department Name       LO: 'Department'\n",
        "(0008, 1050) Performing Physician's Name         PN: ''\n",
        "(0008, 1090) Manufacturer's Model Name           LO: 'TrioTim'\n",
        "(0008, 1140)  Referenced Image Sequence   3 item(s) ---- \n",
        "   (0008, 1150) Referenced SOP Class UID            UI: MR Image Storage\n",
        "   (0008, 1155) Referenced SOP Instance UID         UI: 1.3.12.2.1107.5.2.32.35328.2014121909192485920826711\n",
        "   ---------\n",
        "   (0008, 1150) Referenced SOP Class UID            UI: MR Image Storage\n",
        "   (0008, 1155) Referenced SOP Instance UID         UI: 1.3.12.2.1107.5.2.32.35328.2014121909193279968426719\n",
        "   ---------\n",
        "   (0008, 1150) Referenced SOP Class UID            UI: MR Image Storage\n",
        "   (0008, 1155) Referenced SOP Instance UID         UI: 1.3.12.2.1107.5.2.32.35328.2014121909192880990926715\n",
        "   ---------\n",
        "(0010, 0010) Patient's Name                      PN: 'S101b'\n",
        "(0010, 0020) Patient ID                          LO: 'S101b'\n",
        "(0010, 0030) Patient's Birth Date                DA: '19820124'\n",
        "(0010, 0040) Patient's Sex                       CS: 'M'\n",
        "(0010, 1010) Patient's Age                       AS: '032Y'\n",
        "(0010, 1030) Patient's Weight                    DS: '68.038864155'\n",
        "(0018, 0020) Scanning Sequence                   CS: 'EP'\n",
        "(0018, 0021) Sequence Variant                    CS: 'SK'\n",
        "(0018, 0022) Scan Options                        CS: 'FS'\n",
        "(0018, 0023) MR Acquisition Type                 CS: '2D'\n",
        "(0018, 0024) Sequence Name                       SH: 'epfid2d1_80'\n",
        "(0018, 0025) Angio Flag                          CS: 'N'\n",
        "(0018, 0050) Slice Thickness                     DS: '2.5'\n",
        "(0018, 0080) Repetition Time                     DS: '2500'\n",
        "(0018, 0081) Echo Time                           DS: '29'\n",
        "(0018, 0083) Number of Averages                  DS: '1'\n",
        "(0018, 0084) Imaging Frequency                   DS: '123.252737'\n",
        "(0018, 0085) Imaged Nucleus                      SH: '1H'\n",
        "(0018, 0086) Echo Number(s)                      IS: '1'\n",
        "(0018, 0087) Magnetic Field Strength             DS: '3'\n",
        "(0018, 0088) Spacing Between Slices              DS: '2.9999999285535'\n",
        "(0018, 0089) Number of Phase Encoding Steps      IS: '80'\n",
        "(0018, 0091) Echo Train Length                   IS: '1'\n",
        "(0018, 0093) Percent Sampling                    DS: '100'\n",
        "(0018, 0094) Percent Phase Field of View         DS: '100'\n",
        "(0018, 0095) Pixel Bandwidth                     DS: '2016'\n",
        "(0018, 1000) Device Serial Number                LO: '35328'\n",
        "(0018, 1020) Software Version(s)                 LO: 'syngo MR B17'\n",
        "(0018, 1030) Protocol Name                       LO: 'ep2d_neuro_250iso_183TRs'\n",
        "(0018, 1251) Transmit Coil Name                  SH: 'Body'\n",
        "(0018, 1310) Acquisition Matrix                  US: [80, 0, 0, 80]\n",
        "(0018, 1312) In-plane Phase Encoding Direction   CS: 'COL'\n",
        "(0018, 1314) Flip Angle                          DS: '60'\n",
        "(0018, 1315) Variable Flip Angle Flag            CS: 'N'\n",
        "(0018, 1316) SAR                                 DS: '0.06257817829745'\n",
        "(0018, 1318) dB/dt                               DS: '0'\n",
        "(0018, 5100) Patient Position                    CS: 'HFS'\n",
        "(0019, 0010) Private Creator                     LO: 'SIEMENS MR HEADER'\n",
        "(0019, 1008) [CSA Image Header Type]             CS: 'IMAGE NUM 4'\n",
        "(0019, 1009) [CSA Image Header Version ??]       LO: '1.0'\n",
        "(0019, 100a) [NumberOfImagesInMosaic]            US: 37\n",
        "(0019, 100b) [SliceMeasurementDuration]          DS: '45'\n",
        "(0019, 100f) [GradientMode]                      SH: 'Fast'\n",
        "(0019, 1011) [FlowCompensation]                  SH: 'No'\n",
        "(0019, 1012) [TablePositionOrigin]               SL: [0, 0, -1304]\n",
        "(0019, 1013) [ImaAbsTablePosition]               SL: [0, 0, -1304]\n",
        "(0019, 1014) [ImaRelTablePosition]               IS: ['0', '0', '0']\n",
        "(0019, 1015) [SlicePosition_PCS]                 FD: [-701.6195398, -720.11952121, 55.9794878]\n",
        "(0019, 1016) [TimeAfterStart]                    DS: '2.44'\n",
        "(0019, 1017) [SliceResolution]                   DS: '1'\n",
        "(0019, 1018) [RealDwellTime]                     IS: '3100'\n",
        "(0019, 1028) [BandwidthPerPixelPhaseEncode]      FD: 22.321\n",
        "(0019, 1029) [MosaicRefAcqTimes]                 FD: [2440.0, 2372.50000001, 2305.00000001, 2237.5, 2170.00000001, 2102.50000001, 2035.0, 1967.5, 1897.50000001, 1830.0, 1762.50000001, 1695.00000001, 1627.5, 1560.00000001, 1492.50000001, 1425.0, 1355.00000001, 1287.50000001, 1220.0, 1152.50000001, 1085.00000001, 1017.5, 950.00000001, 880.0, 812.5, 745.00000001, 677.50000001, 610.0, 542.50000001, 475.00000001, 407.5, 337.50000001, 270.0, 202.5, 135.00000001, 67.5, 0.0]\n",
        "(0020, 000d) Study Instance UID                  UI: 1.3.12.2.1107.5.2.32.35328.30000014121916145340600000004\n",
        "(0020, 000e) Series Instance UID                 UI: 1.3.12.2.1107.5.2.32.35328.2014121909433476763127934.0.0.0\n",
        "(0020, 0010) Study ID                            SH: '1'\n",
        "(0020, 0011) Series Number                       IS: '6'\n",
        "(0020, 0012) Acquisition Number                  IS: '1'\n",
        "(0020, 0013) Instance Number                     IS: '1'\n",
        "(0020, 0032) Image Position (Patient)            DS: ['-701.61953979869', '-720.11952121157', '55.979487804465']\n",
        "(0020, 0037) Image Orientation (Patient)         DS: ['0.99912477725649', '-0.0019721582652', '-0.0417826526677', '8.3220325e-009', '0.99888792794296', '-0.047147719031']\n",
        "(0020, 0052) Frame of Reference UID              UI: 1.3.12.2.1107.5.2.32.35328.1.20141219091806390.0.0.0\n",
        "(0020, 1040) Position Reference Indicator        LO: ''\n",
        "(0020, 1041) Slice Location                      DS: '-7.4021455857587'\n",
        "(0028, 0002) Samples per Pixel                   US: 1\n",
        "(0028, 0004) Photometric Interpretation          CS: 'MONOCHROME2'\n",
        "(0028, 0010) Rows                                US: 560\n",
        "(0028, 0011) Columns                             US: 560\n",
        "(0028, 0030) Pixel Spacing                       DS: ['2.5', '2.5']\n",
        "(0028, 0100) Bits Allocated                      US: 16\n",
        "(0028, 0101) Bits Stored                         US: 12\n",
        "(0028, 0102) High Bit                            US: 11\n",
        "(0028, 0103) Pixel Representation                US: 0\n",
        "(0028, 0106) Smallest Image Pixel Value          US: 0\n",
        "(0028, 0107) Largest Image Pixel Value           US: 1972\n",
        "(0028, 1050) Window Center                       DS: '684'\n",
        "(0028, 1051) Window Width                        DS: '1434'\n",
        "(0028, 1055) Window Center & Width Explanation   LO: 'Algo1'\n",
        "(0029, 0010) Private Creator                     LO: 'SIEMENS CSA HEADER'\n",
        "(0029, 0011) Private Creator                     LO: 'SIEMENS MEDCOM HEADER2'\n",
        "(0029, 1008) [CSA Image Header Type]             CS: 'IMAGE NUM 4'\n",
        "(0029, 1009) [CSA Image Header Version]          LO: '20141219'\n",
        "(0029, 1010) [CSA Image Header Info]             OB: Array of 10956 bytes\n",
        "(0029, 1018) [CSA Series Header Type]            CS: 'MR'\n",
        "(0029, 1019) [CSA Series Header Version]         LO: '20141219'\n",
        "(0029, 1020) [CSA Series Header Info]            OB: Array of 90704 bytes\n",
        "(0029, 1160) [Series Workflow Status]            LO: 'com'\n",
        "(0032, 1060) Requested Procedure Description     LO: 'Despo Lab Annelinde'\n",
        "(0040, 0244) Performed Procedure Step Start Date DA: '20141219'\n",
        "(0040, 0245) Performed Procedure Step Start Time TM: '091806.343000'\n",
        "(0040, 0253) Performed Procedure Step ID         SH: 'MR20141219091806'\n",
        "(0040, 0254) Performed Procedure Step Descriptio LO: 'Despo Lab^Annelinde'\n",
        "(0051, 0010) Private Creator                     LO: 'SIEMENS MR HEADER'\n",
        "(0051, 1008) [CSA Image Header Type]             CS: 'IMAGE NUM 4'\n",
        "(0051, 1009) [CSA Image Header Version ??]       LO: '1.0'\n",
        "(0051, 100a) [Unknown]                           LO: 'TA 00.04'\n",
        "(0051, 100b) [AcquisitionMatrixText]             LO: '80*80'\n",
        "(0051, 100c) [Unknown]                           LO: 'FoV 1400*1400'\n",
        "(0051, 100e) [Unknown]                           LO: 'Tra>Cor(-2.7)>Sag(-2.4)'\n",
        "(0051, 100f) [CoilString]                        LO: 'C:HEA;HEP'\n",
        "(0051, 1012) [Unknown]                           SH: 'TP 0'\n",
        "(0051, 1013) [PositivePCSDirections]             SH: '+LPH'\n",
        "(0051, 1016) [Unknown]                           LO: 'M/ND/NORM/MOSAIC'\n",
        "(0051, 1017) [Unknown]                           SH: 'SL 2.5'\n",
        "(0051, 1019) [Unknown]                           LO: 'A1/FS'\n",
        "(7fe0, 0010) Pixel Data                          OW: Array of 627200 bytes"
       ]
      }
     ],
     "prompt_number": 15
    },
    {
     "cell_type": "code",
     "collapsed": false,
     "input": [
      "# [BandwidthPerPixelPhaseEncode] private element\n",
      "bandwidth = float(epi_dcm[(0x19, 0x1028)].value)\n",
      "bandwidth"
     ],
     "language": "python",
     "metadata": {},
     "outputs": [
      {
       "metadata": {},
       "output_type": "pyout",
       "prompt_number": 16,
       "text": [
        "22.321"
       ]
      }
     ],
     "prompt_number": 16
    },
    {
     "cell_type": "code",
     "collapsed": false,
     "input": [
      "n_pe_steps = int(epi_dcm.NumberOfPhaseEncodingSteps)\n",
      "n_pe_steps"
     ],
     "language": "python",
     "metadata": {},
     "outputs": [
      {
       "metadata": {},
       "output_type": "pyout",
       "prompt_number": 17,
       "text": [
        "80"
       ]
      }
     ],
     "prompt_number": 17
    },
    {
     "cell_type": "markdown",
     "metadata": {},
     "source": [
      "To get the blip direction for the Siemems, it looks as if we need to look in the hidden \"ascconv\" text inside the DICOM, and find the `sSliceArray.asSliceXX.dInPlaneRot` values, where XX is the slice number - see https://xwiki.nbirn.org:8443/xwiki/bin/view/Function-BIRN/PhaseEncodeDirectionIssues . According to this page, if the field `dInPlaneRot` is not present, then the blip direction is anterior to posterior (for an A - P phase encode direction); if the field is equal to $\\pi$ then the blip direction is posterior to anterior."
     ]
    },
    {
     "cell_type": "code",
     "collapsed": false,
     "input": [
      "with open(epi_first, 'rt') as fobj:\n",
      "    for line in fobj:\n",
      "        if (line.startswith('sSliceArray.asSlice') and\n",
      "            line.endswith('dInPlaneRot')):\n",
      "            print(line.strip())"
     ],
     "language": "python",
     "metadata": {},
     "outputs": [],
     "prompt_number": 18
    },
    {
     "cell_type": "markdown",
     "metadata": {},
     "source": [
      "`nibabel` has some routines for extracting the binary data from the Siemens private tags:"
     ]
    },
    {
     "cell_type": "code",
     "collapsed": false,
     "input": [
      "from nibabel.nicom.dicomwrappers import wrapper_from_data\n",
      "wrapped = wrapper_from_data(epi_dcm)"
     ],
     "language": "python",
     "metadata": {},
     "outputs": [
      {
       "output_type": "stream",
       "stream": "stderr",
       "text": [
        "-c:1: UserWarning: The DICOM readers are highly experimental, unstable, and only work for Siemens time-series at the moment\n",
        "Please use with caution.  We would be grateful for your help in improving them\n"
       ]
      }
     ],
     "prompt_number": 19
    },
    {
     "cell_type": "code",
     "collapsed": false,
     "input": [
      "csa = wrapped.csa_header"
     ],
     "language": "python",
     "metadata": {},
     "outputs": [],
     "prompt_number": 20
    },
    {
     "cell_type": "code",
     "collapsed": false,
     "input": [
      "csa['tags'].keys()"
     ],
     "language": "python",
     "metadata": {},
     "outputs": [
      {
       "metadata": {},
       "output_type": "pyout",
       "prompt_number": 21,
       "text": [
        "[u'FlowEncodingDirectionString',\n",
        " u'PixelFile',\n",
        " u'OriginalSeriesNumber',\n",
        " u'RepetitionTimeEffective',\n",
        " u'EchoLinePosition',\n",
        " u'Comp_Algorithm',\n",
        " u'ProtocolSliceNumber',\n",
        " u'MoCoQMeasure',\n",
        " u'NumberOfAverages',\n",
        " u'VoxelNormalSag',\n",
        " u'UsedChannelMask',\n",
        " u'BandwidthPerPixelPhaseEncode',\n",
        " u'MeasuredFourierLines',\n",
        " u'SequenceMask',\n",
        " u'TimeAfterStart',\n",
        " u'Comp_Blended',\n",
        " u'RBMoCoTrans',\n",
        " u'VoxelNormalCor',\n",
        " u'AutoInlineImageFilterEnabled',\n",
        " u'B_value',\n",
        " u'RepetitionTime',\n",
        " u'VoxelReadoutFOV',\n",
        " u'RFSWDDataType',\n",
        " u'SliceLocation',\n",
        " u'ImageGroup',\n",
        " u'MosaicRefAcqTimes',\n",
        " u'ImageOrientationPatient',\n",
        " u'SliceThickness',\n",
        " u'ImaPATModeText',\n",
        " u'RealDwellTime',\n",
        " u'ImaCoilString',\n",
        " u'VoxelPositionTra',\n",
        " u'PixelFileName',\n",
        " u'Filter1',\n",
        " u'Filter2',\n",
        " u'EchoColumnPosition',\n",
        " u'PixelSpacing',\n",
        " u'PhaseEncodingDirectionPositive',\n",
        " u'Comp_ManualAdjusted',\n",
        " u'SlicePosition_PCS',\n",
        " u'SliceNormalVector',\n",
        " u'VoxelPositionCor',\n",
        " u'ICE_Dims',\n",
        " u'VoxelNormalTra',\n",
        " u'FlipAngle',\n",
        " u'LQAlgorithm',\n",
        " u'VoxelInPlaneRot',\n",
        " u'Comp_JobID',\n",
        " u'FlowEncodingDirection',\n",
        " u'GSWDDataType',\n",
        " u'SliceMeasurementDuration',\n",
        " u'FMRIStimulLevel',\n",
        " u'DiffusionDirectionality',\n",
        " u'CsiPixelSpacing',\n",
        " u'VoxelThickness',\n",
        " u'QCData',\n",
        " u'SequenceName',\n",
        " u'DiffusionGradientDirection',\n",
        " u'MultistepIndex',\n",
        " u'CsiImagePositionPatient',\n",
        " u'ImaRelTablePosition',\n",
        " u'Comp_AdjustedParam',\n",
        " u'EchoTime',\n",
        " u'FlowVenc',\n",
        " u'VoxelPhaseFOV',\n",
        " u'OriginalImageNumber',\n",
        " u'NormalizeManipulated',\n",
        " u'NumberOfImagesInMosaic',\n",
        " u'FMRIStimulInfo',\n",
        " u'CsiSliceThickness',\n",
        " u'NonPlanarImage',\n",
        " u'ImagePositionPatient',\n",
        " u'B_matrix',\n",
        " u'EchoPartitionPosition',\n",
        " u'AcquisitionMatrixText',\n",
        " u'ImaAbsTablePosition',\n",
        " u'VoxelPositionSag',\n",
        " u'SpectrumTextRegionLabel',\n",
        " u'Actual3DImaPartNumber',\n",
        " u'RBMoCoRot',\n",
        " u'Comp_AutoParam',\n",
        " u'CsiSliceLocation',\n",
        " u'CsiImageOrientationPatient']"
       ]
      }
     ],
     "prompt_number": 21
    },
    {
     "cell_type": "code",
     "collapsed": false,
     "input": [
      "# This value also looks promising for the blip direction\n",
      "csa['tags']['PhaseEncodingDirectionPositive']"
     ],
     "language": "python",
     "metadata": {},
     "outputs": [
      {
       "metadata": {},
       "output_type": "pyout",
       "prompt_number": 22,
       "text": [
        "{'items': [1],\n",
        " 'last3': 77,\n",
        " 'n_items': 6,\n",
        " 'syngodt': 6,\n",
        " 'tag_no': 19,\n",
        " 'vm': 1,\n",
        " 'vr': u'IS'}"
       ]
      }
     ],
     "prompt_number": 22
    }
   ],
   "metadata": {}
  }
 ]
}