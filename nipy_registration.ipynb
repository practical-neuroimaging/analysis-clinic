{
 "cells": [
  {
   "cell_type": "markdown",
   "metadata": {},
   "source": [
    "# Image registration with nipy"
   ]
  },
  {
   "cell_type": "markdown",
   "metadata": {},
   "source": [
    "Nipy has some flexible routines for image registration.  You can choose many parameters such as cost function for matching the images, interpolation method for resampling the images during registration, and optimation method."
   ]
  },
  {
   "cell_type": "code",
   "execution_count": 1,
   "metadata": {
    "collapsed": true
   },
   "outputs": [],
   "source": [
    "import numpy as np"
   ]
  },
  {
   "cell_type": "code",
   "execution_count": 2,
   "metadata": {
    "collapsed": true
   },
   "outputs": [],
   "source": [
    "# - make numpy print numbers to 4dp only\n",
    "np.set_printoptions(precision=4, suppress=True)"
   ]
  },
  {
   "cell_type": "code",
   "execution_count": 3,
   "metadata": {
    "collapsed": true
   },
   "outputs": [],
   "source": [
    "import matplotlib.pyplot as plt\n",
    "%matplotlib inline\n",
    "# - set gray colormap and nearest neighbor interpolation by default\n",
    "plt.rcParams['image.cmap'] = 'gray'\n",
    "plt.rcParams['image.interpolation'] = 'nearest'"
   ]
  },
  {
   "cell_type": "markdown",
   "metadata": {},
   "source": [
    "Here we do a registration rather like the default coregistration routine with SPM."
   ]
  },
  {
   "cell_type": "code",
   "execution_count": 4,
   "metadata": {
    "collapsed": false
   },
   "outputs": [],
   "source": [
    "import nipy\n",
    "import nipy.core.api as nica\n",
    "from nipy.algorithms.registration import HistogramRegistration, resample"
   ]
  },
  {
   "cell_type": "markdown",
   "metadata": {},
   "source": [
    "First we make a new 3D image by taking the mean of all voxels across time in the 4D image.  We drop the first four volumes because of the T1 effect (see the diagnostics notebook):"
   ]
  },
  {
   "cell_type": "code",
   "execution_count": 5,
   "metadata": {
    "collapsed": false
   },
   "outputs": [],
   "source": [
    "img = nipy.load_image('ds114_sub009_t2r1.nii')\n",
    "mean_data = img.get_data()[..., 4:].mean(axis=-1)\n",
    "# Drop the time dimension from the coordinate map\n",
    "coordmap_3d = nica.drop_io_dim(img.coordmap, 't')\n",
    "mean_img = nica.Image(mean_data, coordmap_3d)"
   ]
  },
  {
   "cell_type": "markdown",
   "metadata": {},
   "source": [
    "The \"source\" image is the image we are going to move to match the \"target\" image.  Here we are moving the structural image to match the mean functional image:"
   ]
  },
  {
   "cell_type": "code",
   "execution_count": 6,
   "metadata": {
    "collapsed": false
   },
   "outputs": [],
   "source": [
    "source = nipy.load_image('ds114_sub009_highres_brain.nii')\n",
    "target = mean_img"
   ]
  },
  {
   "cell_type": "code",
   "execution_count": 7,
   "metadata": {
    "collapsed": false
   },
   "outputs": [
    {
     "data": {
      "text/plain": [
       "AffineTransform(\n",
       "   function_domain=CoordinateSystem(coord_names=('i', 'j', 'k'), name='voxels', coord_dtype=float64),\n",
       "   function_range=CoordinateSystem(coord_names=('scanner-x=L->R', 'scanner-y=P->A', 'scanner-z=I->S'), name='scanner', coord_dtype=float64),\n",
       "   affine=array([[  -1.    ,    0.    ,    0.    ,  122.7012],\n",
       "                 [   0.    ,    1.3002,   -0.    ,  -86.6199],\n",
       "                 [  -0.    ,    0.    ,    1.    , -173.3327],\n",
       "                 [   0.    ,    0.    ,    0.    ,    1.    ]])\n",
       ")"
      ]
     },
     "execution_count": 7,
     "metadata": {},
     "output_type": "execute_result"
    }
   ],
   "source": [
    "source.coordmap"
   ]
  },
  {
   "cell_type": "markdown",
   "metadata": {},
   "source": [
    "These images are actually fairly well matched before registration, because they were taken from the same scanning session, and the subject didn't move much between the functional and structural scan.\n",
    "\n",
    "The affine array for each image records the positions of the voxels relative to the center of the scanner.\n",
    "\n",
    "The affines show us the correspondence of the voxels, even though the images have different fields of view and voxel sizes.   To show this we can use `resample` to resample the structural image to the same array grid as the functional image.  The `resample` command works out which voxel value to put in the empty voxel grid by using the affine and then resampling from the structural image array:"
   ]
  },
  {
   "cell_type": "code",
   "execution_count": 8,
   "metadata": {
    "collapsed": true
   },
   "outputs": [],
   "source": [
    "# Resample structural to functional without transform\n",
    "source_before = resample(source, np.eye(4), reference=target)"
   ]
  },
  {
   "cell_type": "code",
   "execution_count": 9,
   "metadata": {
    "collapsed": false
   },
   "outputs": [
    {
     "data": {
      "text/plain": [
       "<matplotlib.image.AxesImage at 0x11219ca90>"
      ]
     },
     "execution_count": 9,
     "metadata": {},
     "output_type": "execute_result"
    },
    {
     "data": {
      "image/png": "[encoded data removed]",
      "text/plain": [
       "<matplotlib.figure.Figure at 0x10328f190>"
      ]
     },
     "metadata": {},
     "output_type": "display_data"
    }
   ],
   "source": [
    "fig, axes = plt.subplots(1, 2, figsize=(10, 10))\n",
    "axes[0].imshow(target.get_data()[:, :, 15])\n",
    "axes[1].imshow(source_before.get_data()[:, :, 15])"
   ]
  },
  {
   "cell_type": "markdown",
   "metadata": {},
   "source": [
    "To show nipy in action, we first disturb the registration to give the algorithm something to do.\n",
    "\n",
    "This shift is just in the affine matrix, because the affine matrices record the current positions of the structural and functional image, relative to each other, and the world space of the scanner:"
   ]
  },
  {
   "cell_type": "code",
   "execution_count": 10,
   "metadata": {
    "collapsed": false
   },
   "outputs": [],
   "source": [
    "# Move structural 10 mm to the left relative to the functional (mean)\n",
    "source.affine[0, -1] += 10\n",
    "source_before = resample(source, np.eye(4), reference=target)"
   ]
  },
  {
   "cell_type": "code",
   "execution_count": 11,
   "metadata": {
    "collapsed": false
   },
   "outputs": [
    {
     "data": {
      "text/plain": [
       "<matplotlib.image.AxesImage at 0x1128dcc10>"
      ]
     },
     "execution_count": 11,
     "metadata": {},
     "output_type": "execute_result"
    },
    {
     "data": {
      "image/png": "[encoded data removed]",
      "text/plain": [
       "<matplotlib.figure.Figure at 0x1082a2950>"
      ]
     },
     "metadata": {},
     "output_type": "display_data"
    }
   ],
   "source": [
    "fig, axes = plt.subplots(1, 2, figsize=(10, 10))\n",
    "axes[0].imshow(target.get_data()[:, :, 15])\n",
    "axes[1].imshow(source_before.get_data()[:, :, 15])"
   ]
  },
  {
   "cell_type": "markdown",
   "metadata": {},
   "source": [
    "We set up the registration in nipy, choosing our image similarity metric (in this case Normalize Mutual Information), the interpolation to use when generating a new image at each step of the registration (Random perturbation of the voxel coordinates), and using the optimization method Powell:"
   ]
  },
  {
   "cell_type": "code",
   "execution_count": 12,
   "metadata": {
    "collapsed": false
   },
   "outputs": [
    {
     "name": "stdout",
     "output_type": "stream",
     "text": [
      "Initial guess...\n",
      "translation : [ 0.  0.  0.]\n",
      "rotation    : [ 0.  0.  0.]\n",
      "\n",
      "Optimizing using fmin_powell\n",
      "translation : [-13.0562   1.       6.4179]\n",
      "rotation    : [-0.0026 -0.0001 -0.0062]\n",
      "\n",
      "nmi = 0.267171289077\n",
      "\n",
      "translation : [-12.6742   2.       6.4392]\n",
      "rotation    : [-0.0021  0.0099  0.0038]\n",
      "\n",
      "nmi = 0.2681862398\n",
      "\n",
      "Optimization terminated successfully.\n",
      "         Current function value: -0.268246\n",
      "         Iterations: 2\n",
      "         Function evaluations: 83\n"
     ]
    }
   ],
   "source": [
    "registration = HistogramRegistration(source, target, similarity='nmi', interp='rand')\n",
    "transform = registration.optimize('rigid', optimizer='powell')"
   ]
  },
  {
   "cell_type": "markdown",
   "metadata": {},
   "source": [
    "This results in an estimated affine that goes from world (scanner, millimeter) coordinates in the source images, to world coordinates in the target image:"
   ]
  },
  {
   "cell_type": "code",
   "execution_count": 13,
   "metadata": {
    "collapsed": false
   },
   "outputs": [
    {
     "data": {
      "text/plain": [
       "array([[  0.9999,  -0.0038,   0.0099, -12.6742],\n",
       "       [  0.0038,   1.    ,   0.0021,   2.    ],\n",
       "       [ -0.0099,  -0.002 ,   0.9999,   6.4392],\n",
       "       [  0.    ,   0.    ,   0.    ,   1.    ]])"
      ]
     },
     "execution_count": 13,
     "metadata": {},
     "output_type": "execute_result"
    }
   ],
   "source": [
    "transform.as_affine()"
   ]
  },
  {
   "cell_type": "markdown",
   "metadata": {},
   "source": [
    "As ever you can inspect the registration object by using `?` to get help and doing tab completion in IPython:"
   ]
  },
  {
   "cell_type": "code",
   "execution_count": 14,
   "metadata": {
    "collapsed": true
   },
   "outputs": [],
   "source": [
    "# HistogramRegistration?"
   ]
  },
  {
   "cell_type": "markdown",
   "metadata": {},
   "source": [
    "We make a new resampled copy of the structural image, at the same voxel grid as the structural.  It's nearer to its original position now:"
   ]
  },
  {
   "cell_type": "code",
   "execution_count": 15,
   "metadata": {
    "collapsed": true
   },
   "outputs": [],
   "source": [
    "source_after = resample(source, transform.inv(), reference=target)"
   ]
  },
  {
   "cell_type": "code",
   "execution_count": 16,
   "metadata": {
    "collapsed": false
   },
   "outputs": [
    {
     "data": {
      "text/plain": [
       "<matplotlib.image.AxesImage at 0x11b2d6810>"
      ]
     },
     "execution_count": 16,
     "metadata": {},
     "output_type": "execute_result"
    },
    {
     "data": {
      "image/png": "[encoded data removed]",
      "text/plain": [
       "<matplotlib.figure.Figure at 0x1082b31d0>"
      ]
     },
     "metadata": {},
     "output_type": "display_data"
    }
   ],
   "source": [
    "fig, axes = plt.subplots(1, 2, figsize=(10, 10))\n",
    "axes[0].imshow(target.get_data()[:, :, 15])\n",
    "axes[1].imshow(source_after.get_data()[:, :, 15])"
   ]
  }
 ],
 "metadata": {
  "kernelspec": {
   "display_name": "Python 2",
   "language": "python",
   "name": "python2"
  },
  "language_info": {
   "codemirror_mode": {
    "name": "ipython",
    "version": 2
   },
   "file_extension": ".py",
   "mimetype": "text/x-python",
   "name": "python",
   "nbconvert_exporter": "python",
   "pygments_lexer": "ipython2",
   "version": "2.7.11"
  }
 },
 "nbformat": 4,
 "nbformat_minor": 0
}
