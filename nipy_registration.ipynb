{
 "cells": [
  {
   "cell_type": "code",
   "execution_count": 1,
   "metadata": {
    "collapsed": true
   },
   "outputs": [],
   "source": [
    "import numpy as np"
   ]
  },
  {
   "cell_type": "code",
   "execution_count": 2,
   "metadata": {
    "collapsed": true
   },
   "outputs": [],
   "source": [
    "# - make numpy print numbers to 4dp only\n",
    "np.set_printoptions(precision=4, suppress=True)"
   ]
  },
  {
   "cell_type": "code",
   "execution_count": 3,
   "metadata": {
    "collapsed": true
   },
   "outputs": [],
   "source": [
    "import matplotlib.pyplot as plt\n",
    "%matplotlib inline\n",
    "# - set gray colormap and nearest neighbor interpolation by default\n",
    "plt.rcParams['image.cmap'] = 'gray'\n",
    "plt.rcParams['image.interpolation'] = 'nearest'"
   ]
  },
  {
   "cell_type": "code",
   "execution_count": 4,
   "metadata": {
    "collapsed": false
   },
   "outputs": [],
   "source": [
    "import nipy\n",
    "import nipy.core.api as nica\n",
    "from nipy.algorithms.registration import HistogramRegistration, resample"
   ]
  },
  {
   "cell_type": "code",
   "execution_count": 5,
   "metadata": {
    "collapsed": false
   },
   "outputs": [],
   "source": [
    "img = nipy.load_image('ds114_sub009_t2r1.nii')\n",
    "mean_data = img.get_data()[..., 4:].mean(axis=-1)\n",
    "# Drop the time dimension from the coordinate map\n",
    "coordmap_3d = nica.drop_io_dim(img.coordmap, 't')\n",
    "mean_img = nica.Image(mean_data, coordmap_3d)"
   ]
  },
  {
   "cell_type": "code",
   "execution_count": 6,
   "metadata": {
    "collapsed": false
   },
   "outputs": [],
   "source": [
    "source = nipy.load_image('ds114_sub009_highres_brain.nii')\n",
    "target = mean_img"
   ]
  },
  {
   "cell_type": "code",
   "execution_count": 7,
   "metadata": {
    "collapsed": false
   },
   "outputs": [
    {
     "data": {
      "text/plain": [
       "AffineTransform(\n",
       "   function_domain=CoordinateSystem(coord_names=('i', 'j', 'k'), name='voxels', coord_dtype=float64),\n",
       "   function_range=CoordinateSystem(coord_names=('scanner-x=L->R', 'scanner-y=P->A', 'scanner-z=I->S'), name='scanner', coord_dtype=float64),\n",
       "   affine=array([[  -1.    ,    0.    ,    0.    ,  122.7012],\n",
       "                 [   0.    ,    1.3002,   -0.    ,  -86.6199],\n",
       "                 [  -0.    ,    0.    ,    1.    , -173.3327],\n",
       "                 [   0.    ,    0.    ,    0.    ,    1.    ]])\n",
       ")"
      ]
     },
     "execution_count": 7,
     "metadata": {},
     "output_type": "execute_result"
    }
   ],
   "source": [
    "source.coordmap"
   ]
  },
  {
   "cell_type": "code",
   "execution_count": 8,
   "metadata": {
    "collapsed": true
   },
   "outputs": [],
   "source": [
    "# Resample structural to functional without transform\n",
    "source_before = resample(source, np.eye(4), reference=target)"
   ]
  },
  {
   "cell_type": "code",
   "execution_count": 9,
   "metadata": {
    "collapsed": false
   },
   "outputs": [
    {
     "data": {
      "text/plain": [
       "<matplotlib.image.AxesImage at 0x1155a50d0>"
      ]
     },
     "execution_count": 9,
     "metadata": {},
     "output_type": "execute_result"
    },
    {
     "data": {
      "image/png": "[encoded data removed]",
      "text/plain": [
       "<matplotlib.figure.Figure at 0x10ae5c410>"
      ]
     },
     "metadata": {},
     "output_type": "display_data"
    }
   ],
   "source": [
    "fig, axes = plt.subplots(1, 2, figsize=(10, 10))\n",
    "axes[0].imshow(target.get_data()[:, :, 15])\n",
    "axes[1].imshow(source_before.get_data()[:, :, 15])"
   ]
  },
  {
   "cell_type": "markdown",
   "metadata": {},
   "source": [
    "Disturb the registration to give the algorithm something to do"
   ]
  },
  {
   "cell_type": "code",
   "execution_count": 10,
   "metadata": {
    "collapsed": false
   },
   "outputs": [],
   "source": [
    "source.affine[0, -1] += 10\n",
    "source_before = resample(source, np.eye(4), reference=target)"
   ]
  },
  {
   "cell_type": "code",
   "execution_count": 11,
   "metadata": {
    "collapsed": false
   },
   "outputs": [
    {
     "data": {
      "text/plain": [
       "<matplotlib.image.AxesImage at 0x115ee7a50>"
      ]
     },
     "execution_count": 11,
     "metadata": {},
     "output_type": "execute_result"
    },
    {
     "data": {
      "image/png": "[encoded data removed]",
      "text/plain": [
       "<matplotlib.figure.Figure at 0x115aa7dd0>"
      ]
     },
     "metadata": {},
     "output_type": "display_data"
    }
   ],
   "source": [
    "fig, axes = plt.subplots(1, 2, figsize=(10, 10))\n",
    "axes[0].imshow(target.get_data()[:, :, 15])\n",
    "axes[1].imshow(source_before.get_data()[:, :, 15])"
   ]
  },
  {
   "cell_type": "code",
   "execution_count": 12,
   "metadata": {
    "collapsed": false
   },
   "outputs": [
    {
     "name": "stdout",
     "output_type": "stream",
     "text": [
      "Initial guess...\n",
      "translation : [ 0.  0.  0.]\n",
      "rotation    : [ 0.  0.  0.]\n",
      "\n",
      "Optimizing using fmin_powell\n",
      "translation : [-7.9602  2.618   5.2361]\n",
      "rotation    : [ 0.01    0.01    0.0216]\n",
      "\n",
      "nmi = 0.258296532583\n",
      "\n",
      "translation : [-11.8202   2.618    5.618 ]\n",
      "rotation    : [ 0.0038 -0.0062  0.0154]\n",
      "\n",
      "nmi = 0.267002082381\n",
      "\n",
      "translation : [-12.4383   2.       6.618 ]\n",
      "rotation    : [-0.0124 -0.0124 -0.0007]\n",
      "\n",
      "nmi = 0.267601898138\n",
      "\n",
      "Optimization terminated successfully.\n",
      "         Current function value: -0.267599\n",
      "         Iterations: 3\n",
      "         Function evaluations: 147\n"
     ]
    }
   ],
   "source": [
    "registration = HistogramRegistration(source, target, similarity='nmi', interp='rand')\n",
    "transform = registration.optimize('rigid', optimizer='powell')"
   ]
  },
  {
   "cell_type": "code",
   "execution_count": 13,
   "metadata": {
    "collapsed": false
   },
   "outputs": [
    {
     "data": {
      "text/plain": [
       "array([[  0.9999,   0.0008,  -0.0124, -12.4383],\n",
       "       [ -0.0007,   0.9999,   0.0124,   2.    ],\n",
       "       [  0.0124,  -0.0124,   0.9998,   6.618 ],\n",
       "       [  0.    ,   0.    ,   0.    ,   1.    ]])"
      ]
     },
     "execution_count": 13,
     "metadata": {},
     "output_type": "execute_result"
    }
   ],
   "source": [
    "transform.as_affine()"
   ]
  },
  {
   "cell_type": "code",
   "execution_count": 14,
   "metadata": {
    "collapsed": true
   },
   "outputs": [],
   "source": [
    "# HistogramRegistration?"
   ]
  },
  {
   "cell_type": "code",
   "execution_count": 15,
   "metadata": {
    "collapsed": true
   },
   "outputs": [],
   "source": [
    "source_after = resample(source, transform.inv(), reference=target)"
   ]
  },
  {
   "cell_type": "code",
   "execution_count": 16,
   "metadata": {
    "collapsed": false
   },
   "outputs": [
    {
     "data": {
      "text/plain": [
       "<matplotlib.image.AxesImage at 0x11f71e950>"
      ]
     },
     "execution_count": 16,
     "metadata": {},
     "output_type": "execute_result"
    },
    {
     "data": {
      "image/png": "[encoded data removed]",
      "text/plain": [
       "<matplotlib.figure.Figure at 0x107c19850>"
      ]
     },
     "metadata": {},
     "output_type": "display_data"
    }
   ],
   "source": [
    "fig, axes = plt.subplots(1, 2, figsize=(10, 10))\n",
    "axes[0].imshow(target.get_data()[:, :, 15])\n",
    "axes[1].imshow(source_after.get_data()[:, :, 15])"
   ]
  }
 ],
 "metadata": {
  "kernelspec": {
   "display_name": "Python 2",
   "language": "python",
   "name": "python2"
  },
  "language_info": {
   "codemirror_mode": {
    "name": "ipython",
    "version": 2
   },
   "file_extension": ".py",
   "mimetype": "text/x-python",
   "name": "python",
   "nbconvert_exporter": "python",
   "pygments_lexer": "ipython2",
   "version": "2.7.11"
  }
 },
 "nbformat": 4,
 "nbformat_minor": 0
}
