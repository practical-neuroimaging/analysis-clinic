{
 "cells": [
  {
   "cell_type": "code",
   "execution_count": 1,
   "metadata": {
    "collapsed": true
   },
   "outputs": [],
   "source": [
    "import numpy as np\n",
    "import matplotlib.pyplot as plt"
   ]
  },
  {
   "cell_type": "code",
   "execution_count": 2,
   "metadata": {
    "collapsed": true
   },
   "outputs": [],
   "source": [
    "%matplotlib inline"
   ]
  },
  {
   "cell_type": "code",
   "execution_count": 3,
   "metadata": {
    "collapsed": true
   },
   "outputs": [],
   "source": [
    "# - set gray colormap and nearest neighbor interpolation by default\n",
    "plt.rcParams['image.cmap'] = 'gray'\n",
    "plt.rcParams['image.interpolation'] = 'nearest'"
   ]
  },
  {
   "cell_type": "code",
   "execution_count": 4,
   "metadata": {
    "collapsed": true
   },
   "outputs": [],
   "source": [
    "# - make numpy print numbers to 4dp only\n",
    "np.set_printoptions(precision=4, suppress=True)"
   ]
  },
  {
   "cell_type": "code",
   "execution_count": 5,
   "metadata": {
    "collapsed": true
   },
   "outputs": [],
   "source": [
    "import nipy"
   ]
  },
  {
   "cell_type": "code",
   "execution_count": 6,
   "metadata": {
    "collapsed": false
   },
   "outputs": [
    {
     "data": {
      "text/plain": [
       "AffineTransform(\n",
       "   function_domain=CoordinateSystem(coord_names=('i', 'j', 'k', 't'), name='voxels', coord_dtype=float64),\n",
       "   function_range=CoordinateSystem(coord_names=('scanner-x=L->R', 'scanner-y=P->A', 'scanner-z=I->S', 't'), name='scanner', coord_dtype=float64),\n",
       "   affine=array([[  -4.    ,    0.    ,    0.    ,    0.    ,  124.244 ],\n",
       "                 [   0.    ,    3.9345,    0.7207,    0.    , -103.4497],\n",
       "                 [   0.    ,   -0.7207,    3.9346,    0.    ,  -33.4929],\n",
       "                 [   0.    ,    0.    ,    0.    ,    2.5   ,    0.    ],\n",
       "                 [   0.    ,    0.    ,    0.    ,    0.    ,    1.    ]])\n",
       ")"
      ]
     },
     "execution_count": 6,
     "metadata": {},
     "output_type": "execute_result"
    }
   ],
   "source": [
    "img = nipy.load_image('ds114_sub009_t2r1.nii')\n",
    "img.coordmap"
   ]
  },
  {
   "cell_type": "code",
   "execution_count": 7,
   "metadata": {
    "collapsed": false
   },
   "outputs": [
    {
     "data": {
      "text/plain": [
       "(64, 64, 30, 173)"
      ]
     },
     "execution_count": 7,
     "metadata": {},
     "output_type": "execute_result"
    }
   ],
   "source": [
    "data = img.get_data()\n",
    "data.shape"
   ]
  },
  {
   "cell_type": "code",
   "execution_count": 8,
   "metadata": {
    "collapsed": false
   },
   "outputs": [
    {
     "data": {
      "text/plain": [
       "<matplotlib.image.AxesImage at 0x10ab51790>"
      ]
     },
     "execution_count": 8,
     "metadata": {},
     "output_type": "execute_result"
    },
    {
     "data": {
      "image/png": "[encoded data removed]",
      "text/plain": [
       "<matplotlib.figure.Figure at 0x108204710>"
      ]
     },
     "metadata": {},
     "output_type": "display_data"
    }
   ],
   "source": [
    "plt.imshow(data[:, :, 15, 0])"
   ]
  },
  {
   "cell_type": "code",
   "execution_count": 9,
   "metadata": {
    "collapsed": false
   },
   "outputs": [
    {
     "data": {
      "text/plain": [
       "<matplotlib.image.AxesImage at 0x10ae3a2d0>"
      ]
     },
     "execution_count": 9,
     "metadata": {},
     "output_type": "execute_result"
    },
    {
     "data": {
      "image/png": "[encoded data removed]",
      "text/plain": [
       "<matplotlib.figure.Figure at 0x10ad26890>"
      ]
     },
     "metadata": {},
     "output_type": "display_data"
    }
   ],
   "source": [
    "plt.imshow(data[32, :, :, 0])  # A sagittal slice"
   ]
  },
  {
   "cell_type": "code",
   "execution_count": 10,
   "metadata": {
    "collapsed": true
   },
   "outputs": [],
   "source": [
    "small_img = img[15:50, 8:55, ::2]"
   ]
  },
  {
   "cell_type": "code",
   "execution_count": 13,
   "metadata": {
    "collapsed": false
   },
   "outputs": [
    {
     "data": {
      "text/plain": [
       "(35, 47, 15, 173)"
      ]
     },
     "execution_count": 13,
     "metadata": {},
     "output_type": "execute_result"
    }
   ],
   "source": [
    "small_data = small_img.get_data()\n",
    "small_data.shape"
   ]
  },
  {
   "cell_type": "code",
   "execution_count": 14,
   "metadata": {
    "collapsed": false
   },
   "outputs": [
    {
     "data": {
      "text/plain": [
       "<matplotlib.image.AxesImage at 0x10b12d950>"
      ]
     },
     "execution_count": 14,
     "metadata": {},
     "output_type": "execute_result"
    },
    {
     "data": {
      "image/png": "[encoded data removed]",
      "text/plain": [
       "<matplotlib.figure.Figure at 0x10aeb5790>"
      ]
     },
     "metadata": {},
     "output_type": "display_data"
    }
   ],
   "source": [
    "plt.imshow(small_data[:, :, 7, 0])"
   ]
  },
  {
   "cell_type": "code",
   "execution_count": 15,
   "metadata": {
    "collapsed": false
   },
   "outputs": [
    {
     "data": {
      "text/plain": [
       "<matplotlib.image.AxesImage at 0x10b45ef10>"
      ]
     },
     "execution_count": 15,
     "metadata": {},
     "output_type": "execute_result"
    },
    {
     "data": {
      "image/png": "[encoded data removed]",
      "text/plain": [
       "<matplotlib.figure.Figure at 0x10b23ea50>"
      ]
     },
     "metadata": {},
     "output_type": "display_data"
    }
   ],
   "source": [
    "plt.imshow(small_data[17, :, :, 0])"
   ]
  },
  {
   "cell_type": "code",
   "execution_count": 16,
   "metadata": {
    "collapsed": false
   },
   "outputs": [
    {
     "data": {
      "text/plain": [
       "array([[ -4.    ,   0.    ,   0.    ,   0.    ,  64.244 ],\n",
       "       [  0.    ,   3.9345,   1.4414,   0.    , -71.9734],\n",
       "       [  0.    ,  -0.7207,   7.8691,   0.    , -39.2586],\n",
       "       [  0.    ,   0.    ,   0.    ,   2.5   ,   0.    ],\n",
       "       [  0.    ,   0.    ,   0.    ,   0.    ,   1.    ]])"
      ]
     },
     "execution_count": 16,
     "metadata": {},
     "output_type": "execute_result"
    }
   ],
   "source": [
    "small_img.affine"
   ]
  },
  {
   "cell_type": "markdown",
   "metadata": {},
   "source": [
    "Dropping the first four scans because of the T1 effect:"
   ]
  },
  {
   "cell_type": "code",
   "execution_count": 17,
   "metadata": {
    "collapsed": true
   },
   "outputs": [],
   "source": [
    "img = img[..., 4:]"
   ]
  },
  {
   "cell_type": "code",
   "execution_count": 18,
   "metadata": {
    "collapsed": false
   },
   "outputs": [
    {
     "data": {
      "text/plain": [
       "(64, 64, 30, 169)"
      ]
     },
     "execution_count": 18,
     "metadata": {},
     "output_type": "execute_result"
    }
   ],
   "source": [
    "img.shape"
   ]
  },
  {
   "cell_type": "code",
   "execution_count": 19,
   "metadata": {
    "collapsed": false
   },
   "outputs": [
    {
     "name": "stderr",
     "output_type": "stream",
     "text": [
      "/Users/mb312/.virtualenvs/nibabel/lib/python2.7/site-packages/nipy/io/files.py:145: FutureWarning: Default `strict` currently False; this will change to True in a future version of nipy\n",
      "  ni_img = nipy2nifti(img, data_dtype = io_dtype)\n"
     ]
    },
    {
     "data": {
      "text/plain": [
       "Image(\n",
       "  data=memmap([[[[ 0,  0, ...,  0,  0],\n",
       "                [ 0,  0, ...,  0,  0],\n",
       "                ..., \n",
       "                [ 0,  0, ...,  0,  0],\n",
       "                [ 0,  0, ...,  0,  0]],\n",
       "       \n",
       "               [[ 8, 10, ..., 10,  7],\n",
       "                [11, 10, ...,  8, 10],\n",
       "                ..., \n",
       "                [19, 11, ..., 20, 21],\n",
       "                [28, 23, ..., 19, 35]],\n",
       "       \n",
       "               ..., \n",
       "               [[ 0,  0, ...,  0,  0],\n",
       "                [ 0,  0, ...,  0,  0],\n",
       "                ..., \n",
       "                [ 0,  0, ...,  0,  0],\n",
       "                [ 0,  0, ...,  0,  0]],\n",
       "       \n",
       "               [[ 0,  0, ...,  0,  0],\n",
       "                [ 0,  0, ...,  0,  0],\n",
       "                ..., \n",
       "                [ 0,  0, ...,  0,  0],\n",
       "                [ 0,  0, ...,  0,  0]]],\n",
       "       \n",
       "       \n",
       "              [[[ 0,  0, ...,  0,  0],\n",
       "                [ 0,  0, ...,  0,  0],\n",
       "                ..., \n",
       "                [ 0,  0, ...,  0,  0],\n",
       "                [ 0,  0, ...,  0,  0]],\n",
       "       \n",
       "               [[10, 10, ..., 10,  7],\n",
       "                [11, 11, ...,  9, 11],\n",
       "                ..., \n",
       "                [17, 19, ..., 24, 14],\n",
       "                [24, 41, ..., 21, 22]],\n",
       "       \n",
       "               ..., \n",
       "               [[ 0,  0, ...,  0,  0],\n",
       "                [ 0,  0, ...,  0,  0],\n",
       "                ..., \n",
       "                [ 0,  0, ...,  0,  0],\n",
       "                [ 0,  0, ...,  0,  0]],\n",
       "       \n",
       "               [[ 0,  0, ...,  0,  0],\n",
       "                [ 0,  0, ...,  0,  0],\n",
       "                ..., \n",
       "                [ 0,  0, ...,  0,  0],\n",
       "                [ 0,  0, ...,  0,  0]]],\n",
       "       \n",
       "       \n",
       "              ..., \n",
       "              [[[ 0,  0, ...,  0,  0],\n",
       "                [ 0,  0, ...,  0,  0],\n",
       "                ..., \n",
       "                [ 0,  0, ...,  0,  0],\n",
       "                [ 0,  0, ...,  0,  0]],\n",
       "       \n",
       "               [[ 1,  1, ...,  2,  1],\n",
       "                [ 1,  1, ...,  1,  1],\n",
       "                ..., \n",
       "                [22, 19, ..., 12, 19],\n",
       "                [14, 14, ..., 28, 23]],\n",
       "       \n",
       "               ..., \n",
       "               [[ 0,  0, ...,  0,  0],\n",
       "                [ 0,  0, ...,  0,  0],\n",
       "                ..., \n",
       "                [ 0,  0, ...,  0,  0],\n",
       "                [ 0,  0, ...,  0,  0]],\n",
       "       \n",
       "               [[ 0,  0, ...,  0,  0],\n",
       "                [ 0,  0, ...,  0,  0],\n",
       "                ..., \n",
       "                [ 0,  0, ...,  0,  0],\n",
       "                [ 0,  0, ...,  0,  0]]],\n",
       "       \n",
       "       \n",
       "              [[[ 0,  0, ...,  0,  0],\n",
       "                [ 0,  0, ...,  0,  0],\n",
       "                ..., \n",
       "                [ 0,  0, ...,  0,  0],\n",
       "                [ 0,  0, ...,  0,  0]],\n",
       "       \n",
       "               [[ 1,  1, ...,  2,  1],\n",
       "                [ 1,  1, ...,  0,  1],\n",
       "                ..., \n",
       "                [14, 15, ..., 17, 18],\n",
       "                [20, 12, ..., 16, 13]],\n",
       "       \n",
       "               ..., \n",
       "               [[ 0,  0, ...,  0,  0],\n",
       "                [ 0,  0, ...,  0,  0],\n",
       "                ..., \n",
       "                [ 0,  0, ...,  0,  0],\n",
       "                [ 0,  0, ...,  0,  0]],\n",
       "       \n",
       "               [[ 0,  0, ...,  0,  0],\n",
       "                [ 0,  0, ...,  0,  0],\n",
       "                ..., \n",
       "                [ 0,  0, ...,  0,  0],\n",
       "                [ 0,  0, ...,  0,  0]]]], dtype=int16),\n",
       "  coordmap=AffineTransform(\n",
       "            function_domain=CoordinateSystem(coord_names=('i', 'j', 'k', 't'), name='input-slice', coord_dtype=float64),\n",
       "            function_range=CoordinateSystem(coord_names=('scanner-x=L->R', 'scanner-y=P->A', 'scanner-z=I->S', 't'), name='scanner', coord_dtype=float64),\n",
       "            affine=array([[  -4.      ,    0.      ,    0.      ,    0.      ,  124.244003],\n",
       "                          [   0.      ,    3.934535,    0.720723,    0.      , -103.449684],\n",
       "                          [   0.      ,   -0.72072 ,    3.934551,    0.      ,  -33.492859],\n",
       "                          [   0.      ,    0.      ,    0.      ,    2.5     ,   10.      ],\n",
       "                          [   0.      ,    0.      ,    0.      ,    0.      ,    1.      ]])\n",
       "         ))"
      ]
     },
     "execution_count": 19,
     "metadata": {},
     "output_type": "execute_result"
    }
   ],
   "source": [
    "nipy.save_image(img, 'fixed.nii')"
   ]
  },
  {
   "cell_type": "code",
   "execution_count": null,
   "metadata": {
    "collapsed": true
   },
   "outputs": [],
   "source": []
  }
 ],
 "metadata": {
  "kernelspec": {
   "display_name": "Python 2",
   "language": "python",
   "name": "python2"
  },
  "language_info": {
   "codemirror_mode": {
    "name": "ipython",
    "version": 2
   },
   "file_extension": ".py",
   "mimetype": "text/x-python",
   "name": "python",
   "nbconvert_exporter": "python",
   "pygments_lexer": "ipython2",
   "version": "2.7.11"
  }
 },
 "nbformat": 4,
 "nbformat_minor": 0
}
