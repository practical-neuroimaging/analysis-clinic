{
 "cells": [
  {
   "cell_type": "markdown",
   "metadata": {},
   "source": [
    "# Slicing images with nipy"
   ]
  },
  {
   "cell_type": "markdown",
   "metadata": {},
   "source": [
    "Sometimes it is useful to slice out image edges or subsample images.   For example, your functional images might have a lot of empty space around the brain that will take up memory during processing, or your structural image might contain too much of the subject's neck, or the resolution may be to high.\n",
    "\n",
    "You can always load the image data and slice away the parts of the image data array that you don't want, but then you will have to work out the effect this should have on the image affine (see http://nipy.org/nibabel/coordinate_systems.html).\n",
    "\n",
    "Luckily nipy has the ability to slice images while working out the effect on the affine matrix for you."
   ]
  },
  {
   "cell_type": "code",
   "execution_count": 1,
   "metadata": {
    "collapsed": true
   },
   "outputs": [],
   "source": [
    "# Import the numerical and plotting libraries\n",
    "import numpy as np\n",
    "import matplotlib.pyplot as plt"
   ]
  },
  {
   "cell_type": "code",
   "execution_count": 2,
   "metadata": {
    "collapsed": true
   },
   "outputs": [],
   "source": [
    "# Show plots inside the notebook\n",
    "%matplotlib inline"
   ]
  },
  {
   "cell_type": "code",
   "execution_count": 3,
   "metadata": {
    "collapsed": true
   },
   "outputs": [],
   "source": [
    "# - set gray colormap and nearest neighbor interpolation by default\n",
    "plt.rcParams['image.cmap'] = 'gray'\n",
    "plt.rcParams['image.interpolation'] = 'nearest'"
   ]
  },
  {
   "cell_type": "code",
   "execution_count": 4,
   "metadata": {
    "collapsed": true
   },
   "outputs": [],
   "source": [
    "# - make numpy print numbers to 4dp only\n",
    "np.set_printoptions(precision=4, suppress=True)"
   ]
  },
  {
   "cell_type": "markdown",
   "metadata": {},
   "source": [
    "We load our example functional image again:"
   ]
  },
  {
   "cell_type": "code",
   "execution_count": 5,
   "metadata": {
    "collapsed": true
   },
   "outputs": [],
   "source": [
    "import nipy"
   ]
  },
  {
   "cell_type": "code",
   "execution_count": 6,
   "metadata": {
    "collapsed": false
   },
   "outputs": [
    {
     "data": {
      "text/plain": [
       "AffineTransform(\n",
       "   function_domain=CoordinateSystem(coord_names=('i', 'j', 'k', 't'), name='voxels', coord_dtype=float64),\n",
       "   function_range=CoordinateSystem(coord_names=('scanner-x=L->R', 'scanner-y=P->A', 'scanner-z=I->S', 't'), name='scanner', coord_dtype=float64),\n",
       "   affine=array([[  -4.    ,    0.    ,    0.    ,    0.    ,  124.244 ],\n",
       "                 [   0.    ,    3.9345,    0.7207,    0.    , -103.4497],\n",
       "                 [   0.    ,   -0.7207,    3.9346,    0.    ,  -33.4929],\n",
       "                 [   0.    ,    0.    ,    0.    ,    2.5   ,    0.    ],\n",
       "                 [   0.    ,    0.    ,    0.    ,    0.    ,    1.    ]])\n",
       ")"
      ]
     },
     "execution_count": 6,
     "metadata": {},
     "output_type": "execute_result"
    }
   ],
   "source": [
    "img = nipy.load_image('ds114_sub009_t2r1.nii')\n",
    "img.coordmap"
   ]
  },
  {
   "cell_type": "markdown",
   "metadata": {},
   "source": [
    "The functional data has a lot of empty space around the brain:"
   ]
  },
  {
   "cell_type": "code",
   "execution_count": 7,
   "metadata": {
    "collapsed": false
   },
   "outputs": [
    {
     "data": {
      "text/plain": [
       "(64, 64, 30, 173)"
      ]
     },
     "execution_count": 7,
     "metadata": {},
     "output_type": "execute_result"
    }
   ],
   "source": [
    "data = img.get_data()\n",
    "data.shape"
   ]
  },
  {
   "cell_type": "code",
   "execution_count": 8,
   "metadata": {
    "collapsed": false
   },
   "outputs": [
    {
     "data": {
      "text/plain": [
       "<matplotlib.image.AxesImage at 0x108bd6b10>"
      ]
     },
     "execution_count": 8,
     "metadata": {},
     "output_type": "execute_result"
    },
    {
     "data": {
      "image/png": "[encoded data removed]",
      "text/plain": [
       "<matplotlib.figure.Figure at 0x106156890>"
      ]
     },
     "metadata": {},
     "output_type": "display_data"
    }
   ],
   "source": [
    "plt.imshow(data[:, :, 15, 0])"
   ]
  },
  {
   "cell_type": "code",
   "execution_count": 9,
   "metadata": {
    "collapsed": false
   },
   "outputs": [
    {
     "data": {
      "text/plain": [
       "<matplotlib.image.AxesImage at 0x108e3cc90>"
      ]
     },
     "execution_count": 9,
     "metadata": {},
     "output_type": "execute_result"
    },
    {
     "data": {
      "image/png": "[encoded data removed]",
      "text/plain": [
       "<matplotlib.figure.Figure at 0x1061b7ad0>"
      ]
     },
     "metadata": {},
     "output_type": "display_data"
    }
   ],
   "source": [
    "plt.imshow(data[32, :, :, 0])  # A sagittal slice"
   ]
  },
  {
   "cell_type": "markdown",
   "metadata": {},
   "source": [
    "Maybe we would look to slice off the empty space to left and right and front and back of the brain.\n",
    "\n",
    "Maybe we also want to halve the resolution in the bottom-top direction.  We do that by slicing the image:"
   ]
  },
  {
   "cell_type": "code",
   "execution_count": 10,
   "metadata": {
    "collapsed": true
   },
   "outputs": [],
   "source": [
    "small_img = img[15:50, 8:55, ::2]"
   ]
  },
  {
   "cell_type": "markdown",
   "metadata": {},
   "source": [
    "The slicing we did on the image shows up when we get the data from the image:"
   ]
  },
  {
   "cell_type": "code",
   "execution_count": 11,
   "metadata": {
    "collapsed": false
   },
   "outputs": [
    {
     "data": {
      "text/plain": [
       "(35, 47, 15, 173)"
      ]
     },
     "execution_count": 11,
     "metadata": {},
     "output_type": "execute_result"
    }
   ],
   "source": [
    "small_data = small_img.get_data()\n",
    "small_data.shape"
   ]
  },
  {
   "cell_type": "code",
   "execution_count": 12,
   "metadata": {
    "collapsed": false
   },
   "outputs": [
    {
     "data": {
      "text/plain": [
       "<matplotlib.image.AxesImage at 0x108f0d250>"
      ]
     },
     "execution_count": 12,
     "metadata": {},
     "output_type": "execute_result"
    },
    {
     "data": {
      "image/png": "[encoded data removed]",
      "text/plain": [
       "<matplotlib.figure.Figure at 0x108b8eb90>"
      ]
     },
     "metadata": {},
     "output_type": "display_data"
    }
   ],
   "source": [
    "plt.imshow(small_data[:, :, 7, 0])"
   ]
  },
  {
   "cell_type": "markdown",
   "metadata": {},
   "source": [
    "The sagittal view now looks more squashed up because we've removed every second slice with the image slicing:"
   ]
  },
  {
   "cell_type": "code",
   "execution_count": 13,
   "metadata": {
    "collapsed": false
   },
   "outputs": [
    {
     "data": {
      "text/plain": [
       "<matplotlib.image.AxesImage at 0x109047f10>"
      ]
     },
     "execution_count": 13,
     "metadata": {},
     "output_type": "execute_result"
    },
    {
     "data": {
      "image/png": "[encoded data removed]",
      "text/plain": [
       "<matplotlib.figure.Figure at 0x108f83890>"
      ]
     },
     "metadata": {},
     "output_type": "display_data"
    }
   ],
   "source": [
    "plt.imshow(small_data[17, :, :, 0])"
   ]
  },
  {
   "cell_type": "markdown",
   "metadata": {},
   "source": [
    "Nipy adjusted the image affine to the slicing.  Notice that the last column of the affine, reflecting the different translations to go from voxel 0, 0, 0 to the position in millimeters (voxel 0, 0, 0 is a different voxel after the slicing).  Also, the second to last column contains the size of the voxel in the z (bottom to top) direction, and this is now around 8 instead of 4 previously.  That is because we threw away every second slice, so the remaining slices are twice the distance apart from each other."
   ]
  },
  {
   "cell_type": "code",
   "execution_count": 14,
   "metadata": {
    "collapsed": false
   },
   "outputs": [
    {
     "data": {
      "text/plain": [
       "array([[ -4.    ,   0.    ,   0.    ,   0.    ,  64.244 ],\n",
       "       [  0.    ,   3.9345,   1.4414,   0.    , -71.9734],\n",
       "       [  0.    ,  -0.7207,   7.8691,   0.    , -39.2586],\n",
       "       [  0.    ,   0.    ,   0.    ,   2.5   ,   0.    ],\n",
       "       [  0.    ,   0.    ,   0.    ,   0.    ,   1.    ]])"
      ]
     },
     "execution_count": 14,
     "metadata": {},
     "output_type": "execute_result"
    }
   ],
   "source": [
    "small_img.affine"
   ]
  },
  {
   "cell_type": "markdown",
   "metadata": {},
   "source": [
    "In the notebook on diagnostics, we saw that the first few scans were different from the rest.  This is the T1 effect, where the signal is largest when the radiofrequency stimulation first starts.   We can drop the first four scans with slicing, to get rid of this effect."
   ]
  },
  {
   "cell_type": "code",
   "execution_count": 15,
   "metadata": {
    "collapsed": true
   },
   "outputs": [],
   "source": [
    "img = img[..., 4:]"
   ]
  },
  {
   "cell_type": "code",
   "execution_count": 16,
   "metadata": {
    "collapsed": false
   },
   "outputs": [
    {
     "data": {
      "text/plain": [
       "(64, 64, 30, 169)"
      ]
     },
     "execution_count": 16,
     "metadata": {},
     "output_type": "execute_result"
    }
   ],
   "source": [
    "img.shape"
   ]
  },
  {
   "cell_type": "markdown",
   "metadata": {},
   "source": [
    "We can save this image back out to disk for further processing by other packages:"
   ]
  },
  {
   "cell_type": "code",
   "execution_count": 17,
   "metadata": {
    "collapsed": false
   },
   "outputs": [
    {
     "name": "stderr",
     "output_type": "stream",
     "text": [
      "/Users/mb312/Library/Python/2.7/lib/python/site-packages/nipy/io/files.py:145: FutureWarning: Default `strict` currently False; this will change to True in a future version of nipy\n",
      "  ni_img = nipy2nifti(img, data_dtype = io_dtype)\n"
     ]
    },
    {
     "data": {
      "text/plain": [
       "Image(\n",
       "  data=memmap([[[[ 0,  0, ...,  0,  0],\n",
       "                [ 0,  0, ...,  0,  0],\n",
       "                ..., \n",
       "                [ 0,  0, ...,  0,  0],\n",
       "                [ 0,  0, ...,  0,  0]],\n",
       "       \n",
       "               [[ 8, 10, ..., 10,  7],\n",
       "                [11, 10, ...,  8, 10],\n",
       "                ..., \n",
       "                [19, 11, ..., 20, 21],\n",
       "                [28, 23, ..., 19, 35]],\n",
       "       \n",
       "               ..., \n",
       "               [[ 0,  0, ...,  0,  0],\n",
       "                [ 0,  0, ...,  0,  0],\n",
       "                ..., \n",
       "                [ 0,  0, ...,  0,  0],\n",
       "                [ 0,  0, ...,  0,  0]],\n",
       "       \n",
       "               [[ 0,  0, ...,  0,  0],\n",
       "                [ 0,  0, ...,  0,  0],\n",
       "                ..., \n",
       "                [ 0,  0, ...,  0,  0],\n",
       "                [ 0,  0, ...,  0,  0]]],\n",
       "       \n",
       "       \n",
       "              [[[ 0,  0, ...,  0,  0],\n",
       "                [ 0,  0, ...,  0,  0],\n",
       "                ..., \n",
       "                [ 0,  0, ...,  0,  0],\n",
       "                [ 0,  0, ...,  0,  0]],\n",
       "       \n",
       "               [[10, 10, ..., 10,  7],\n",
       "                [11, 11, ...,  9, 11],\n",
       "                ..., \n",
       "                [17, 19, ..., 24, 14],\n",
       "                [24, 41, ..., 21, 22]],\n",
       "       \n",
       "               ..., \n",
       "               [[ 0,  0, ...,  0,  0],\n",
       "                [ 0,  0, ...,  0,  0],\n",
       "                ..., \n",
       "                [ 0,  0, ...,  0,  0],\n",
       "                [ 0,  0, ...,  0,  0]],\n",
       "       \n",
       "               [[ 0,  0, ...,  0,  0],\n",
       "                [ 0,  0, ...,  0,  0],\n",
       "                ..., \n",
       "                [ 0,  0, ...,  0,  0],\n",
       "                [ 0,  0, ...,  0,  0]]],\n",
       "       \n",
       "       \n",
       "              ..., \n",
       "              [[[ 0,  0, ...,  0,  0],\n",
       "                [ 0,  0, ...,  0,  0],\n",
       "                ..., \n",
       "                [ 0,  0, ...,  0,  0],\n",
       "                [ 0,  0, ...,  0,  0]],\n",
       "       \n",
       "               [[ 1,  1, ...,  2,  1],\n",
       "                [ 1,  1, ...,  1,  1],\n",
       "                ..., \n",
       "                [22, 19, ..., 12, 19],\n",
       "                [14, 14, ..., 28, 23]],\n",
       "       \n",
       "               ..., \n",
       "               [[ 0,  0, ...,  0,  0],\n",
       "                [ 0,  0, ...,  0,  0],\n",
       "                ..., \n",
       "                [ 0,  0, ...,  0,  0],\n",
       "                [ 0,  0, ...,  0,  0]],\n",
       "       \n",
       "               [[ 0,  0, ...,  0,  0],\n",
       "                [ 0,  0, ...,  0,  0],\n",
       "                ..., \n",
       "                [ 0,  0, ...,  0,  0],\n",
       "                [ 0,  0, ...,  0,  0]]],\n",
       "       \n",
       "       \n",
       "              [[[ 0,  0, ...,  0,  0],\n",
       "                [ 0,  0, ...,  0,  0],\n",
       "                ..., \n",
       "                [ 0,  0, ...,  0,  0],\n",
       "                [ 0,  0, ...,  0,  0]],\n",
       "       \n",
       "               [[ 1,  1, ...,  2,  1],\n",
       "                [ 1,  1, ...,  0,  1],\n",
       "                ..., \n",
       "                [14, 15, ..., 17, 18],\n",
       "                [20, 12, ..., 16, 13]],\n",
       "       \n",
       "               ..., \n",
       "               [[ 0,  0, ...,  0,  0],\n",
       "                [ 0,  0, ...,  0,  0],\n",
       "                ..., \n",
       "                [ 0,  0, ...,  0,  0],\n",
       "                [ 0,  0, ...,  0,  0]],\n",
       "       \n",
       "               [[ 0,  0, ...,  0,  0],\n",
       "                [ 0,  0, ...,  0,  0],\n",
       "                ..., \n",
       "                [ 0,  0, ...,  0,  0],\n",
       "                [ 0,  0, ...,  0,  0]]]], dtype=int16),\n",
       "  coordmap=AffineTransform(\n",
       "            function_domain=CoordinateSystem(coord_names=('i', 'j', 'k', 't'), name='input-slice', coord_dtype=float64),\n",
       "            function_range=CoordinateSystem(coord_names=('scanner-x=L->R', 'scanner-y=P->A', 'scanner-z=I->S', 't'), name='scanner', coord_dtype=float64),\n",
       "            affine=array([[  -4.      ,    0.      ,    0.      ,    0.      ,  124.244003],\n",
       "                          [   0.      ,    3.934535,    0.720723,    0.      , -103.449684],\n",
       "                          [   0.      ,   -0.72072 ,    3.934551,    0.      ,  -33.492859],\n",
       "                          [   0.      ,    0.      ,    0.      ,    2.5     ,   10.      ],\n",
       "                          [   0.      ,    0.      ,    0.      ,    0.      ,    1.      ]])\n",
       "         ))"
      ]
     },
     "execution_count": 17,
     "metadata": {},
     "output_type": "execute_result"
    }
   ],
   "source": [
    "nipy.save_image(img, 'fixed.nii')"
   ]
  }
 ],
 "metadata": {
  "kernelspec": {
   "display_name": "Python 2",
   "language": "python",
   "name": "python2"
  },
  "language_info": {
   "codemirror_mode": {
    "name": "ipython",
    "version": 2
   },
   "file_extension": ".py",
   "mimetype": "text/x-python",
   "name": "python",
   "nbconvert_exporter": "python",
   "pygments_lexer": "ipython2",
   "version": "2.7.11"
  }
 },
 "nbformat": 4,
 "nbformat_minor": 0
}
