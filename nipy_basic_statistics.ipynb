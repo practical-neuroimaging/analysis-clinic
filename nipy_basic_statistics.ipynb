{
 "cells": [
  {
   "cell_type": "markdown",
   "metadata": {
    "collapsed": true
   },
   "source": [
    "# Doing ordinary least squares and AR(1) modeling"
   ]
  },
  {
   "cell_type": "code",
   "execution_count": 2,
   "metadata": {
    "collapsed": true
   },
   "outputs": [],
   "source": [
    "# The usual boilerplate\n",
    "import numpy as np\n",
    "np.set_printoptions(precision=4, suppress=True)\n",
    "import matplotlib.pyplot as plt\n",
    "%matplotlib inline\n",
    "# - set gray colormap and nearest neighbor interpolation by default\n",
    "plt.rcParams['image.cmap'] = 'gray'\n",
    "plt.rcParams['image.interpolation'] = 'nearest'"
   ]
  },
  {
   "cell_type": "code",
   "execution_count": 3,
   "metadata": {
    "collapsed": true
   },
   "outputs": [],
   "source": [
    "# Imports from nipy\n",
    "import nipy\n",
    "from nipy.modalities.fmri.design import block_design, stack_designs\n",
    "from nipy.modalities.fmri import hrf\n",
    "from nipy.algorithms.statistics.api import (OLSModel, ARModel, make_recarray)\n",
    "from nipy.modalities.fmri.design_matrix import _cosine_drift as dft_basis"
   ]
  },
  {
   "cell_type": "markdown",
   "metadata": {},
   "source": [
    "First we get the raw functional data and drop the first four scans, as dummy scans."
   ]
  },
  {
   "cell_type": "code",
   "execution_count": 4,
   "metadata": {
    "collapsed": false
   },
   "outputs": [
    {
     "data": {
      "text/plain": [
       "(64, 64, 30, 169)"
      ]
     },
     "execution_count": 4,
     "metadata": {},
     "output_type": "execute_result"
    }
   ],
   "source": [
    "n_dummies = 4\n",
    "func_img = nipy.load_image('ds114_sub009_t2r1.nii')\n",
    "func_img = func_img[..., n_dummies:]\n",
    "func_img.shape"
   ]
  },
  {
   "cell_type": "markdown",
   "metadata": {},
   "source": [
    "We get the times at which each remaining volume was acquired relative to the start of the first volume.  The first volume is the first of the four dummy scans we dropped:"
   ]
  },
  {
   "cell_type": "code",
   "execution_count": 5,
   "metadata": {
    "collapsed": true
   },
   "outputs": [],
   "source": [
    "TR = 2.5\n",
    "n_vols = func_img.shape[-1]\n",
    "volume_times = np.arange(n_vols) * TR + n_dummies * TR"
   ]
  },
  {
   "cell_type": "markdown",
   "metadata": {},
   "source": [
    "We make the volume times into a structured array with field name `t`, so that nipy knows this is an array of time values."
   ]
  },
  {
   "cell_type": "code",
   "execution_count": 31,
   "metadata": {
    "collapsed": false
   },
   "outputs": [
    {
     "data": {
      "text/plain": [
       "array([(10.0,), (12.5,), (15.0,), (17.5,), (20.0,), (22.5,), (25.0,),\n",
       "       (27.5,), (30.0,), (32.5,), (35.0,), (37.5,), (40.0,), (42.5,),\n",
       "       (45.0,), (47.5,), (50.0,), (52.5,), (55.0,), (57.5,), (60.0,),\n",
       "       (62.5,), (65.0,), (67.5,), (70.0,), (72.5,), (75.0,), (77.5,),\n",
       "       (80.0,), (82.5,), (85.0,), (87.5,), (90.0,), (92.5,), (95.0,),\n",
       "       (97.5,), (100.0,), (102.5,), (105.0,), (107.5,), (110.0,), (112.5,),\n",
       "       (115.0,), (117.5,), (120.0,), (122.5,), (125.0,), (127.5,),\n",
       "       (130.0,), (132.5,), (135.0,), (137.5,), (140.0,), (142.5,),\n",
       "       (145.0,), (147.5,), (150.0,), (152.5,), (155.0,), (157.5,),\n",
       "       (160.0,), (162.5,), (165.0,), (167.5,), (170.0,), (172.5,),\n",
       "       (175.0,), (177.5,), (180.0,), (182.5,), (185.0,), (187.5,),\n",
       "       (190.0,), (192.5,), (195.0,), (197.5,), (200.0,), (202.5,),\n",
       "       (205.0,), (207.5,), (210.0,), (212.5,), (215.0,), (217.5,),\n",
       "       (220.0,), (222.5,), (225.0,), (227.5,), (230.0,), (232.5,),\n",
       "       (235.0,), (237.5,), (240.0,), (242.5,), (245.0,), (247.5,),\n",
       "       (250.0,), (252.5,), (255.0,), (257.5,), (260.0,), (262.5,),\n",
       "       (265.0,), (267.5,), (270.0,), (272.5,), (275.0,), (277.5,),\n",
       "       (280.0,), (282.5,), (285.0,), (287.5,), (290.0,), (292.5,),\n",
       "       (295.0,), (297.5,), (300.0,), (302.5,), (305.0,), (307.5,),\n",
       "       (310.0,), (312.5,), (315.0,), (317.5,), (320.0,), (322.5,),\n",
       "       (325.0,), (327.5,), (330.0,), (332.5,), (335.0,), (337.5,),\n",
       "       (340.0,), (342.5,), (345.0,), (347.5,), (350.0,), (352.5,),\n",
       "       (355.0,), (357.5,), (360.0,), (362.5,), (365.0,), (367.5,),\n",
       "       (370.0,), (372.5,), (375.0,), (377.5,), (380.0,), (382.5,),\n",
       "       (385.0,), (387.5,), (390.0,), (392.5,), (395.0,), (397.5,),\n",
       "       (400.0,), (402.5,), (405.0,), (407.5,), (410.0,), (412.5,),\n",
       "       (415.0,), (417.5,), (420.0,), (422.5,), (425.0,), (427.5,), (430.0,)], \n",
       "      dtype=[('t', '<f8')])"
      ]
     },
     "execution_count": 31,
     "metadata": {},
     "output_type": "execute_result"
    }
   ],
   "source": [
    "volume_times_rec = make_recarray(volume_times, 't')\n",
    "volume_times_rec"
   ]
  },
  {
   "cell_type": "markdown",
   "metadata": {},
   "source": [
    "Next we make the definition of a block design, in a format nipy understands.\n",
    "\n",
    "Here are the onsets of the blocks and their durations, in the standard OpenFMRI format:"
   ]
  },
  {
   "cell_type": "code",
   "execution_count": 9,
   "metadata": {
    "collapsed": false
   },
   "outputs": [
    {
     "data": {
      "text/plain": [
       "array([[  10.,   30.,    1.],\n",
       "       [  70.,   30.,    1.],\n",
       "       [ 130.,   30.,    1.],\n",
       "       [ 190.,   30.,    1.],\n",
       "       [ 250.,   30.,    1.],\n",
       "       [ 310.,   30.,    1.],\n",
       "       [ 370.,   30.,    1.]])"
      ]
     },
     "execution_count": 9,
     "metadata": {},
     "output_type": "execute_result"
    }
   ],
   "source": [
    "block_defs = np.loadtxt('ds114_sub009_t2r1_cond.txt')\n",
    "block_defs"
   ]
  },
  {
   "cell_type": "markdown",
   "metadata": {},
   "source": [
    "Make this into a structured array with fields `start` (onset time) and `stop` (offset time):"
   ]
  },
  {
   "cell_type": "code",
   "execution_count": 10,
   "metadata": {
    "collapsed": false
   },
   "outputs": [
    {
     "data": {
      "text/plain": [
       "array([[(10.0, 40.0)],\n",
       "       [(70.0, 100.0)],\n",
       "       [(130.0, 160.0)],\n",
       "       [(190.0, 220.0)],\n",
       "       [(250.0, 280.0)],\n",
       "       [(310.0, 340.0)],\n",
       "       [(370.0, 400.0)]], \n",
       "      dtype=[('start', '<f8'), ('end', '<f8')])"
      ]
     },
     "execution_count": 10,
     "metadata": {},
     "output_type": "execute_result"
    }
   ],
   "source": [
    "onsets, durations, amplitudes = block_defs.T\n",
    "block_spec_arr = np.column_stack((onsets, onsets + durations))\n",
    "block_spec = make_recarray(block_spec_arr, ('start', 'end'))\n",
    "block_spec"
   ]
  },
  {
   "cell_type": "markdown",
   "metadata": {},
   "source": [
    "Feed this block definition into the nipy utility for constructing the design matrix for a block design.\n",
    "\n",
    "We'll use the SPM HRF definition, but you can explore the `hrf` model for other HRF definitions we could have used:"
   ]
  },
  {
   "cell_type": "code",
   "execution_count": 11,
   "metadata": {
    "collapsed": false
   },
   "outputs": [],
   "source": [
    "X_exper, cons_exper = block_design(block_spec, \n",
    "                                   volume_times_rec,\n",
    "                                   hrfs=(hrf.spm,))"
   ]
  },
  {
   "cell_type": "markdown",
   "metadata": {},
   "source": [
    "Because this is a single condition, this design is a single regressor - the block on/off step function convolved with the HRF:"
   ]
  },
  {
   "cell_type": "code",
   "execution_count": 12,
   "metadata": {
    "collapsed": false
   },
   "outputs": [
    {
     "data": {
      "text/plain": [
       "[<matplotlib.lines.Line2D at 0x10de1c090>]"
      ]
     },
     "execution_count": 12,
     "metadata": {},
     "output_type": "execute_result"
    },
    {
     "data": {
      "image/png": "[encoded data removed]",
      "text/plain": [
       "<matplotlib.figure.Figure at 0x10b23f310>"
      ]
     },
     "metadata": {},
     "output_type": "display_data"
    }
   ],
   "source": [
    "plt.plot(volume_times, X_exper)"
   ]
  },
  {
   "cell_type": "markdown",
   "metadata": {},
   "source": [
    "Nipy made the contrast for this part of the design.  In this case it's just a single value == 1 (more or less!) but if we had included other columns in the block definition, these would have been factor levels, and there could be more contrasts here, for main effects and interactions:"
   ]
  },
  {
   "cell_type": "code",
   "execution_count": 13,
   "metadata": {
    "collapsed": false
   },
   "outputs": [
    {
     "data": {
      "text/plain": [
       "{'constant_0': array(0.9999999999999998)}"
      ]
     },
     "execution_count": 13,
     "metadata": {},
     "output_type": "execute_result"
    }
   ],
   "source": [
    "cons_exper"
   ]
  },
  {
   "cell_type": "markdown",
   "metadata": {},
   "source": [
    "Model the low-frequency drift with the discrete cosine basis.  This is the default model used by SPM. See https://en.wikipedia.org/wiki/Discrete_cosine_transform."
   ]
  },
  {
   "cell_type": "code",
   "execution_count": 14,
   "metadata": {
    "collapsed": false
   },
   "outputs": [],
   "source": [
    "# 128 seconds wavelength cut-off high-pass filter.\n",
    "drift = dft_basis(128, volume_times)"
   ]
  },
  {
   "cell_type": "code",
   "execution_count": 15,
   "metadata": {
    "collapsed": false
   },
   "outputs": [
    {
     "data": {
      "text/plain": [
       "<matplotlib.image.AxesImage at 0x10ded0090>"
      ]
     },
     "execution_count": 15,
     "metadata": {},
     "output_type": "execute_result"
    },
    {
     "data": {
      "image/png": "[encoded data removed]",
      "text/plain": [
       "<matplotlib.figure.Figure at 0x10de7fdd0>"
      ]
     },
     "metadata": {},
     "output_type": "display_data"
    }
   ],
   "source": [
    "plt.imshow(drift, aspect=0.1)"
   ]
  },
  {
   "cell_type": "code",
   "execution_count": 16,
   "metadata": {
    "collapsed": false
   },
   "outputs": [],
   "source": [
    "# Stack the experimental and drift designs, keeping track of\n",
    "# the columns in the contrast matrix.\n",
    "X, cons = stack_designs((X_exper, cons_exper), (drift, {}))"
   ]
  },
  {
   "cell_type": "code",
   "execution_count": 17,
   "metadata": {
    "collapsed": false
   },
   "outputs": [
    {
     "data": {
      "text/plain": [
       "<matplotlib.image.AxesImage at 0x10e12c410>"
      ]
     },
     "execution_count": 17,
     "metadata": {},
     "output_type": "execute_result"
    },
    {
     "data": {
      "image/png": "[encoded data removed]",
      "text/plain": [
       "<matplotlib.figure.Figure at 0x10dc82550>"
      ]
     },
     "metadata": {},
     "output_type": "display_data"
    }
   ],
   "source": [
    "plt.imshow(X, aspect=0.1)"
   ]
  },
  {
   "cell_type": "markdown",
   "metadata": {},
   "source": [
    "First we do an OLS fit of this model to the data, rearranged to a time by voxel array:"
   ]
  },
  {
   "cell_type": "code",
   "execution_count": 18,
   "metadata": {
    "collapsed": true
   },
   "outputs": [],
   "source": [
    "model_0 = OLSModel(X)"
   ]
  },
  {
   "cell_type": "code",
   "execution_count": 19,
   "metadata": {
    "collapsed": false
   },
   "outputs": [
    {
     "data": {
      "text/plain": [
       "<nipy.algorithms.statistics.models.regression.RegressionResults at 0x10dfbc090>"
      ]
     },
     "execution_count": 19,
     "metadata": {},
     "output_type": "execute_result"
    }
   ],
   "source": [
    "data = func_img.get_data()\n",
    "data_2d = data.reshape(-1, n_vols).T\n",
    "result = model_0.fit(data_2d)\n",
    "result"
   ]
  },
  {
   "cell_type": "code",
   "execution_count": 20,
   "metadata": {
    "collapsed": false
   },
   "outputs": [
    {
     "data": {
      "text/plain": [
       "(7, 122880)"
      ]
     },
     "execution_count": 20,
     "metadata": {},
     "output_type": "execute_result"
    }
   ],
   "source": [
    "betas_2d = result.theta\n",
    "betas_2d.shape"
   ]
  },
  {
   "cell_type": "markdown",
   "metadata": {},
   "source": [
    "We rearrange the beta matrix from number of parameters (==P) by voxel, to (I, J, K, P)."
   ]
  },
  {
   "cell_type": "code",
   "execution_count": 21,
   "metadata": {
    "collapsed": false
   },
   "outputs": [],
   "source": [
    "vol_shape = data.shape[:3]\n",
    "betas_4d = betas_2d.T.reshape(vol_shape + (-1,))"
   ]
  },
  {
   "cell_type": "markdown",
   "metadata": {},
   "source": [
    "Here is the center slice from the first parameter volume (p=0).  This is the parameter for the HRF regressor.  It shows some activation in the left frontal lobe."
   ]
  },
  {
   "cell_type": "code",
   "execution_count": 22,
   "metadata": {
    "collapsed": false
   },
   "outputs": [
    {
     "data": {
      "text/plain": [
       "<matplotlib.image.AxesImage at 0x10e2aab10>"
      ]
     },
     "execution_count": 22,
     "metadata": {},
     "output_type": "execute_result"
    },
    {
     "data": {
      "image/png": "[encoded data removed]",
      "text/plain": [
       "<matplotlib.figure.Figure at 0x10dfbc750>"
      ]
     },
     "metadata": {},
     "output_type": "display_data"
    }
   ],
   "source": [
    "plt.imshow(betas_4d[:, :, 15, 0])"
   ]
  },
  {
   "cell_type": "markdown",
   "metadata": {},
   "source": [
    "Next we make an estimate for the AR(1) parameter from the residuals of the OLS model."
   ]
  },
  {
   "cell_type": "code",
   "execution_count": 23,
   "metadata": {
    "collapsed": false
   },
   "outputs": [
    {
     "data": {
      "text/plain": [
       "(169, 122880)"
      ]
     },
     "execution_count": 23,
     "metadata": {},
     "output_type": "execute_result"
    }
   ],
   "source": [
    "result.resid.shape"
   ]
  },
  {
   "cell_type": "code",
   "execution_count": 24,
   "metadata": {
    "collapsed": false
   },
   "outputs": [],
   "source": [
    "# Estimate AR(1) coefficient\n",
    "lag_1 = (result.resid[1:] * result.resid[:-1]).sum(axis=0)\n",
    "resid_ss = (result.resid**2).sum(axis=0)\n",
    "nz_ss = resid_ss != 0\n",
    "ar1_estimate = lag_1\n",
    "ar1_estimate[~nz_ss] = 0\n",
    "ar1_estimate[nz_ss] /= resid_ss[nz_ss]"
   ]
  },
  {
   "cell_type": "code",
   "execution_count": 25,
   "metadata": {
    "collapsed": false
   },
   "outputs": [
    {
     "data": {
      "text/plain": [
       "(122880,)"
      ]
     },
     "execution_count": 25,
     "metadata": {},
     "output_type": "execute_result"
    }
   ],
   "source": [
    "ar1_estimate.shape"
   ]
  },
  {
   "cell_type": "code",
   "execution_count": 26,
   "metadata": {
    "collapsed": false
   },
   "outputs": [],
   "source": [
    "# We round AR(1) to nearest one-hundredth and group voxels by their rounded\n",
    "# AR(1) value, fitting an AR(1) model to each batch of voxels.\n",
    "ar1_estimate = np.round(ar1_estimate * 100) / 100."
   ]
  },
  {
   "cell_type": "code",
   "execution_count": 27,
   "metadata": {
    "collapsed": false
   },
   "outputs": [],
   "source": [
    "white_betas_2d = np.zeros_like(betas_2d)\n",
    "# Loop across bins estimating model for each\n",
    "for ar_val in np.unique(ar1_estimate):\n",
    "    ar_mask = ar1_estimate == ar_val\n",
    "    m = ARModel(X, ar_val)\n",
    "    d = data_2d[:,ar_mask]\n",
    "    results = m.fit(d)\n",
    "    white_betas_2d[:, ar_mask] = results.theta"
   ]
  },
  {
   "cell_type": "markdown",
   "metadata": {},
   "source": [
    "Here are the estimates for the first parameter (HRF parameter) after AR(1) modeling:"
   ]
  },
  {
   "cell_type": "code",
   "execution_count": 28,
   "metadata": {
    "collapsed": false
   },
   "outputs": [],
   "source": [
    "white_betas_4d = white_betas_2d.T.reshape(vol_shape + (-1,))"
   ]
  },
  {
   "cell_type": "code",
   "execution_count": 29,
   "metadata": {
    "collapsed": false
   },
   "outputs": [
    {
     "data": {
      "text/plain": [
       "<matplotlib.image.AxesImage at 0x10e35ae50>"
      ]
     },
     "execution_count": 29,
     "metadata": {},
     "output_type": "execute_result"
    },
    {
     "data": {
      "image/png": "[encoded data removed]",
      "text/plain": [
       "<matplotlib.figure.Figure at 0x10df4a050>"
      ]
     },
     "metadata": {},
     "output_type": "display_data"
    }
   ],
   "source": [
    "plt.imshow(white_betas_4d[:, :, 15, 0])"
   ]
  },
  {
   "cell_type": "code",
   "execution_count": 30,
   "metadata": {
    "collapsed": false
   },
   "outputs": [
    {
     "data": {
      "text/plain": [
       "<matplotlib.image.AxesImage at 0x112760090>"
      ]
     },
     "execution_count": 30,
     "metadata": {},
     "output_type": "execute_result"
    },
    {
     "data": {
      "image/png": "[encoded data removed]",
      "text/plain": [
       "<matplotlib.figure.Figure at 0x10e489210>"
      ]
     },
     "metadata": {},
     "output_type": "display_data"
    }
   ],
   "source": [
    "plt.imshow(white_betas_4d[:, :, 15, 0] - betas_4d[:, :, 15, 0])"
   ]
  }
 ],
 "metadata": {
  "kernelspec": {
   "display_name": "Python 2",
   "language": "python",
   "name": "python2"
  },
  "language_info": {
   "codemirror_mode": {
    "name": "ipython",
    "version": 2
   },
   "file_extension": ".py",
   "mimetype": "text/x-python",
   "name": "python",
   "nbconvert_exporter": "python",
   "pygments_lexer": "ipython2",
   "version": "2.7.11"
  }
 },
 "nbformat": 4,
 "nbformat_minor": 0
}
