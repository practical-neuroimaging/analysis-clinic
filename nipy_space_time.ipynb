{
 "cells": [
  {
   "cell_type": "markdown",
   "metadata": {},
   "source": [
    "# Combined slice timing and motion correction"
   ]
  },
  {
   "cell_type": "markdown",
   "metadata": {},
   "source": [
    "Nipy has a routine that combines the calculation of the motion between scans, and the slice time interpolation.\n",
    "\n",
    "You can imagine that, as the motion correction moves the slices, we might want to take into account the fact that the slices in the images now correspond to different times of acquisition.\n",
    "\n",
    "Nipy has a routine that does that by combining slice time correction with simultaneous motion correction.\n",
    "\n",
    "See:\n",
    "\n",
    "Roche, Alexis (2011) A four-dimensional registration algorithm with application\n",
    "to joint correction of motion and slice timing in fMRI. *Medical Imaging, IEEE\n",
    "Transactions on*;  30:1546--1554"
   ]
  },
  {
   "cell_type": "code",
   "execution_count": 1,
   "metadata": {
    "collapsed": true
   },
   "outputs": [],
   "source": [
    "import numpy as np"
   ]
  },
  {
   "cell_type": "code",
   "execution_count": 2,
   "metadata": {
    "collapsed": true
   },
   "outputs": [],
   "source": [
    "# - make numpy print numbers to 4dp only\n",
    "np.set_printoptions(precision=4, suppress=True)"
   ]
  },
  {
   "cell_type": "code",
   "execution_count": 3,
   "metadata": {
    "collapsed": true
   },
   "outputs": [],
   "source": [
    "import matplotlib.pyplot as plt\n",
    "%matplotlib inline\n",
    "# - set gray colormap and nearest neighbor interpolation by default\n",
    "plt.rcParams['image.cmap'] = 'gray'\n",
    "plt.rcParams['image.interpolation'] = 'nearest'"
   ]
  },
  {
   "cell_type": "markdown",
   "metadata": {},
   "source": [
    "We load the 4D image to which we will apply the algorithm:"
   ]
  },
  {
   "cell_type": "code",
   "execution_count": 4,
   "metadata": {
    "collapsed": true
   },
   "outputs": [],
   "source": [
    "import nipy"
   ]
  },
  {
   "cell_type": "code",
   "execution_count": 5,
   "metadata": {
    "collapsed": false
   },
   "outputs": [],
   "source": [
    "img = nipy.load_image('ds114_sub009_t2r1.nii')"
   ]
  },
  {
   "cell_type": "markdown",
   "metadata": {},
   "source": [
    "To calculate the slice timing, we need the image TR.  In our case, we can see the TR recorded in the `db_name` and `pixdim` fields of the header, but this is often not the case, and we will have to get the TR from some other source such as the original DICOM files or our lab notebook written when we acquired the data."
   ]
  },
  {
   "cell_type": "code",
   "execution_count": 6,
   "metadata": {
    "collapsed": false
   },
   "outputs": [
    {
     "name": "stdout",
     "output_type": "stream",
     "text": [
      "<class 'nibabel.nifti1.Nifti1Header'> object, endian='<'\n",
      "sizeof_hdr      : 348\n",
      "data_type       : \n",
      "db_name         : ?TR:2500.000 TE:50\n",
      "extents         : 0\n",
      "session_error   : 0\n",
      "regular         : r\n",
      "dim_info        : 0\n",
      "dim             : [  4  64  64  30 173   1   1   1]\n",
      "intent_p1       : 0.0\n",
      "intent_p2       : 0.0\n",
      "intent_p3       : 0.0\n",
      "intent_code     : none\n",
      "datatype        : int16\n",
      "bitpix          : 16\n",
      "slice_start     : 0\n",
      "pixdim          : [-1.   4.   4.   4.   2.5  1.   1.   1. ]\n",
      "vox_offset      : 0.0\n",
      "scl_slope       : nan\n",
      "scl_inter       : nan\n",
      "slice_end       : 0\n",
      "slice_code      : unknown\n",
      "xyzt_units      : 10\n",
      "cal_max         : 0.0\n",
      "cal_min         : 0.0\n",
      "slice_duration  : 0.0\n",
      "toffset         : 0.0\n",
      "glmax           : 255\n",
      "glmin           : 0\n",
      "descrip         : \n",
      "aux_file        : \n",
      "qform_code      : scanner\n",
      "sform_code      : scanner\n",
      "quatern_b       : 0.0\n",
      "quatern_c       : 0.9958999753\n",
      "quatern_d       : -0.0904608666897\n",
      "qoffset_x       : 124.244003296\n",
      "qoffset_y       : -103.449684143\n",
      "qoffset_z       : -33.4928588867\n",
      "srow_x          : [  -4.       0.       0.     124.244]\n",
      "srow_y          : [   0.        3.9345    0.7207 -103.4497]\n",
      "srow_z          : [  0.      -0.7207   3.9346 -33.4929]\n",
      "intent_name     : \n",
      "magic           : n+1\n"
     ]
    }
   ],
   "source": [
    "print(img.metadata['header'])"
   ]
  },
  {
   "cell_type": "markdown",
   "metadata": {},
   "source": [
    "In fact nipy has taken the TR information out of the header, and put it into the 4th row, 4th column of the 5D affine matrix for this image:"
   ]
  },
  {
   "cell_type": "code",
   "execution_count": 7,
   "metadata": {
    "collapsed": false
   },
   "outputs": [
    {
     "data": {
      "text/plain": [
       "array([[  -4.    ,    0.    ,    0.    ,    0.    ,  124.244 ],\n",
       "       [   0.    ,    3.9345,    0.7207,    0.    , -103.4497],\n",
       "       [   0.    ,   -0.7207,    3.9346,    0.    ,  -33.4929],\n",
       "       [   0.    ,    0.    ,    0.    ,    2.5   ,    0.    ],\n",
       "       [   0.    ,    0.    ,    0.    ,    0.    ,    1.    ]])"
      ]
     },
     "execution_count": 7,
     "metadata": {},
     "output_type": "execute_result"
    }
   ],
   "source": [
    "img.affine"
   ]
  },
  {
   "cell_type": "code",
   "execution_count": 8,
   "metadata": {
    "collapsed": false
   },
   "outputs": [
    {
     "data": {
      "text/plain": [
       "2.5"
      ]
     },
     "execution_count": 8,
     "metadata": {},
     "output_type": "execute_result"
    }
   ],
   "source": [
    "TR = img.affine[3, 3]\n",
    "TR"
   ]
  },
  {
   "cell_type": "markdown",
   "metadata": {},
   "source": [
    "Before we get going, we drop the first four scans because of the T1 effect (see the diagnostics notebook):"
   ]
  },
  {
   "cell_type": "code",
   "execution_count": 9,
   "metadata": {
    "collapsed": true
   },
   "outputs": [],
   "source": [
    "img = img[..., 4:]"
   ]
  },
  {
   "cell_type": "markdown",
   "metadata": {},
   "source": [
    "Now we are ready to do the combined motion and slice-time correction."
   ]
  },
  {
   "cell_type": "code",
   "execution_count": 10,
   "metadata": {
    "collapsed": true
   },
   "outputs": [],
   "source": [
    "import nipy.algorithms.registration as reg"
   ]
  },
  {
   "cell_type": "markdown",
   "metadata": {},
   "source": [
    "We have to specify the times at which the slices were acquired, relative to the beginning of the volume.  We can do this by passing in the times as an array, or by passing in a function that returns the times, given the TR and number of slices, but we can also select common schemes by passing in a string such as \"ascending\" (slices acquired sequentially from bottom to top).  Here we've specified that this acquisition acquired the second slice in space first in time, and then alternate slices to the top slice, followed by the first slice in space, and alternate slices to the top slice. We call this `asc_alt_2_1` - but see `nipy.algorithms.slicetiming.timefuncs` for a collection of these functions with their standard names.\n",
    "\n",
    "`slice_info=2` tells nipy that the third image axes is the slice axis - meaning that the first slice collected in time was `img[:, :, 1, 0]`, the second slice collected was `img[:, :, 3, 0]` and so on."
   ]
  },
  {
   "cell_type": "code",
   "execution_count": 11,
   "metadata": {
    "collapsed": false
   },
   "outputs": [],
   "source": [
    "realigner = reg.SpaceTimeRealign(img, TR, \n",
    "                                slice_times='asc_alt_2_1',\n",
    "                                slice_info=2)"
   ]
  },
  {
   "cell_type": "markdown",
   "metadata": {},
   "source": [
    "The estimation step takes a fairly long time:"
   ]
  },
  {
   "cell_type": "code",
   "execution_count": 12,
   "metadata": {
    "collapsed": true
   },
   "outputs": [],
   "source": [
    "realigner.estimate()"
   ]
  },
  {
   "cell_type": "markdown",
   "metadata": {},
   "source": [
    "The estimation step results in a list of transforms, one list for each run.  We only have one run, so we have a list with a single entry:"
   ]
  },
  {
   "cell_type": "code",
   "execution_count": 13,
   "metadata": {
    "collapsed": false
   },
   "outputs": [
    {
     "data": {
      "text/plain": [
       "1"
      ]
     },
     "execution_count": 13,
     "metadata": {},
     "output_type": "execute_result"
    }
   ],
   "source": [
    "transforms = realigner._transforms\n",
    "len(transforms)"
   ]
  },
  {
   "cell_type": "markdown",
   "metadata": {},
   "source": [
    "Each list has a transform object corresponding to every volume in the run.  These transform objects give the transformation to match each scan to the first:"
   ]
  },
  {
   "cell_type": "code",
   "execution_count": 14,
   "metadata": {
    "collapsed": false
   },
   "outputs": [
    {
     "data": {
      "text/plain": [
       "169"
      ]
     },
     "execution_count": 14,
     "metadata": {},
     "output_type": "execute_result"
    }
   ],
   "source": [
    "run_0_xforms = transforms[0]\n",
    "len(run_0_xforms)"
   ]
  },
  {
   "cell_type": "code",
   "execution_count": 15,
   "metadata": {
    "collapsed": false
   },
   "outputs": [
    {
     "data": {
      "text/plain": [
       "<nipy.algorithms.registration.affine.Rigid at 0x10ab55a50>"
      ]
     },
     "execution_count": 15,
     "metadata": {},
     "output_type": "execute_result"
    }
   ],
   "source": [
    "run_0_xforms[0]"
   ]
  },
  {
   "cell_type": "code",
   "execution_count": 16,
   "metadata": {
    "collapsed": false
   },
   "outputs": [
    {
     "name": "stdout",
     "output_type": "stream",
     "text": [
      "[[ 1.  0.  0.  0.]\n",
      " [ 0.  1.  0.  0.]\n",
      " [ 0.  0.  1.  0.]\n",
      " [ 0.  0.  0.  1.]]\n",
      "[[ 1.     -0.0002 -0.0003  0.0091]\n",
      " [ 0.0002  1.      0.0011  0.0538]\n",
      " [ 0.0003 -0.0011  1.     -0.0132]\n",
      " [ 0.      0.      0.      1.    ]]\n"
     ]
    }
   ],
   "source": [
    "affines = [t.as_affine() for t in run_0_xforms]\n",
    "print(affines[0])\n",
    "print(affines[1])"
   ]
  },
  {
   "cell_type": "markdown",
   "metadata": {},
   "source": [
    "We can get the translations and rotations from the affines, like this:"
   ]
  },
  {
   "cell_type": "code",
   "execution_count": 17,
   "metadata": {
    "collapsed": false
   },
   "outputs": [
    {
     "data": {
      "text/plain": [
       "(169, 3)"
      ]
     },
     "execution_count": 17,
     "metadata": {},
     "output_type": "execute_result"
    }
   ],
   "source": [
    "translations = np.array([aff[:3, 3] for aff in affines])\n",
    "translations.shape"
   ]
  },
  {
   "cell_type": "code",
   "execution_count": 18,
   "metadata": {
    "collapsed": false
   },
   "outputs": [
    {
     "data": {
      "text/plain": [
       "<matplotlib.legend.Legend at 0x10adb6a50>"
      ]
     },
     "execution_count": 18,
     "metadata": {},
     "output_type": "execute_result"
    },
    {
     "data": {
      "image/png": "[encoded data removed]",
      "text/plain": [
       "<matplotlib.figure.Figure at 0x10ab55d50>"
      ]
     },
     "metadata": {},
     "output_type": "display_data"
    }
   ],
   "source": [
    "plt.plot(translations[:, 0], label='x trans')\n",
    "plt.plot(translations[:, 1], label='y trans')\n",
    "plt.plot(translations[:, 2], label='z trans')\n",
    "plt.legend()"
   ]
  },
  {
   "cell_type": "markdown",
   "metadata": {},
   "source": [
    "It takes a little more math to get the rotation (Euler) angles out of the affines, but not much:"
   ]
  },
  {
   "cell_type": "code",
   "execution_count": 19,
   "metadata": {
    "collapsed": true
   },
   "outputs": [],
   "source": [
    "rotations = np.array([reg.aff2euler(aff) for aff in affines])"
   ]
  },
  {
   "cell_type": "code",
   "execution_count": 20,
   "metadata": {
    "collapsed": false
   },
   "outputs": [
    {
     "data": {
      "text/plain": [
       "<matplotlib.legend.Legend at 0x10b05c410>"
      ]
     },
     "execution_count": 20,
     "metadata": {},
     "output_type": "execute_result"
    },
    {
     "data": {
      "image/png": "[encoded data removed]",
      "text/plain": [
       "<matplotlib.figure.Figure at 0x10594fbd0>"
      ]
     },
     "metadata": {},
     "output_type": "display_data"
    }
   ],
   "source": [
    "plt.plot(rotations[:, 0], label='pitch')\n",
    "plt.plot(rotations[:, 1], label='roll')\n",
    "plt.plot(rotations[:, 2], label='yaw')\n",
    "plt.legend()"
   ]
  },
  {
   "cell_type": "markdown",
   "metadata": {},
   "source": [
    "Finally, we can generate a new 4D image with the estimated slice time and motion effects removed, using the `resample` method of the realigner object:"
   ]
  },
  {
   "cell_type": "code",
   "execution_count": 21,
   "metadata": {
    "collapsed": false
   },
   "outputs": [
    {
     "data": {
      "text/plain": [
       "[Image(\n",
       "   data=array([[[[  0.      ,   0.000074, ...,   0.001222,   0.00045 ],\n",
       "                 [  0.      ,   0.000085, ...,   0.000712,   0.001389],\n",
       "                 ..., \n",
       "                 [  0.      ,   0.051972, ...,   0.      ,   0.      ],\n",
       "                 [  0.      ,   0.058916, ...,   0.      ,   0.      ]],\n",
       "        \n",
       "                [[  8.      ,   8.71661 , ...,   6.583172,   6.394062],\n",
       "                 [ 11.      ,   9.945651, ...,   8.784552,  10.173548],\n",
       "                 ..., \n",
       "                 [ 19.      ,  19.464956, ...,  20.643818,  16.838831],\n",
       "                 [ 28.      ,  24.863324, ...,  15.206551,  23.127875]],\n",
       "        \n",
       "                ..., \n",
       "                [[  0.      ,  -0.048841, ...,  -0.406789,  -0.30147 ],\n",
       "                 [  0.      ,  -0.043404, ...,  -0.406128,  -0.192357],\n",
       "                 ..., \n",
       "                 [  0.      ,  -0.024625, ...,  -0.005713,  -0.000287],\n",
       "                 [  0.      ,  -0.013569, ...,   0.038333,  -0.005998]],\n",
       "        \n",
       "                [[ -0.      ,  -0.      , ...,  -0.      ,  -0.      ],\n",
       "                 [ -0.      ,  -0.      , ...,  -0.      ,  -0.      ],\n",
       "                 ..., \n",
       "                 [ -0.      ,  -0.      , ...,   0.00019 ,   0.000001],\n",
       "                 [ -0.      ,  -0.      , ...,  -0.001327,   0.00003 ]]],\n",
       "        \n",
       "        \n",
       "               [[[  0.      ,   0.000086, ...,   0.001798,   0.000651],\n",
       "                 [  0.      ,   0.000105, ...,   0.001728,   0.001786],\n",
       "                 ..., \n",
       "                 [  0.      ,   0.036844, ...,  -0.000008,  -0.000009],\n",
       "                 [  0.      ,   0.075551, ...,   0.000986,   0.000757]],\n",
       "        \n",
       "                [[ 10.      ,   9.902349, ...,   6.602799,   6.440941],\n",
       "                 [ 11.      ,  11.012152, ...,   9.631838,  11.075408],\n",
       "                 ..., \n",
       "                 [ 17.      ,  17.718577, ...,  22.038153,  23.378773],\n",
       "                 [ 24.      ,  30.842781, ...,  21.837303,  21.106181]],\n",
       "        \n",
       "                ..., \n",
       "                [[  0.      ,  -0.044215, ...,  -0.354631,  -0.261918],\n",
       "                 [  0.      ,  -0.060915, ...,  -0.400697,  -0.18033 ],\n",
       "                 ..., \n",
       "                 [  0.      ,  -0.05253 , ...,   0.002833,  -0.00158 ],\n",
       "                 [  0.      ,  -0.023525, ...,   0.097541,  -0.012447]],\n",
       "        \n",
       "                [[ -0.      ,  -0.      , ...,  -0.      ,  -0.      ],\n",
       "                 [ -0.      ,  -0.      , ...,  -0.      ,  -0.      ],\n",
       "                 ..., \n",
       "                 [ -0.      ,  -0.      , ...,  -0.000095,   0.000008],\n",
       "                 [ -0.      ,  -0.      , ...,  -0.003408,   0.000068]]],\n",
       "        \n",
       "        \n",
       "               ..., \n",
       "               [[[ -0.      ,  -0.      , ...,  -0.000002,  -0.      ],\n",
       "                 [ -0.      ,  -0.      , ...,  -0.      ,  -0.      ],\n",
       "                 ..., \n",
       "                 [  0.      ,   0.033435, ...,  -0.000264,   0.000322],\n",
       "                 [  0.      ,   0.019564, ...,  -0.000798,   0.000842]],\n",
       "        \n",
       "                [[  1.      ,   1.047769, ...,   1.63396 ,   1.124314],\n",
       "                 [  1.      ,   1.036284, ...,   0.512662,   1.012188],\n",
       "                 ..., \n",
       "                 [ 22.      ,  22.417285, ...,  18.379695,  17.671441],\n",
       "                 [ 14.      ,  13.5802  , ...,  14.135155,  21.798035]],\n",
       "        \n",
       "                ..., \n",
       "                [[  0.      ,   0.010414, ...,  -0.010052,   0.047399],\n",
       "                 [  0.      ,   0.007181, ...,  -0.008071,   0.040042],\n",
       "                 ..., \n",
       "                 [  0.      ,  -0.000027, ...,   0.000722,  -0.002334],\n",
       "                 [  0.      ,   0.000015, ...,   0.005098,  -0.000482]],\n",
       "        \n",
       "                [[ -0.      ,  -0.000034, ...,  -0.      ,  -0.000478],\n",
       "                 [ -0.      ,  -0.000015, ...,  -0.      ,  -0.00048 ],\n",
       "                 ..., \n",
       "                 [  0.      ,   0.      , ...,  -0.000033,   0.000062],\n",
       "                 [  0.      ,   0.      , ...,  -0.00024 ,   0.000013]]],\n",
       "        \n",
       "        \n",
       "               [[[ -0.      ,  -0.      , ...,  -0.000008,  -0.      ],\n",
       "                 [ -0.      ,   0.      , ...,  -0.000009,  -0.      ],\n",
       "                 ..., \n",
       "                 [  0.      ,   0.018632, ...,   0.000026,  -0.000035],\n",
       "                 [  0.      ,   0.024002, ...,   0.00008 ,  -0.000092]],\n",
       "        \n",
       "                [[  1.      ,   0.990233, ...,   1.592441,   1.131572],\n",
       "                 [  1.      ,   0.982283, ...,  -0.393777,   0.963152],\n",
       "                 ..., \n",
       "                 [ 14.      ,  14.48239 , ...,  23.796226,  15.148474],\n",
       "                 [ 20.      ,  16.539546, ...,  20.393632,   9.952056]],\n",
       "        \n",
       "                ..., \n",
       "                [[  0.      ,   0.009584, ...,  -0.011668,   0.047645],\n",
       "                 [  0.      ,   0.005408, ...,  -0.006562,   0.039168],\n",
       "                 ..., \n",
       "                 [  0.      ,   0.      , ...,  -0.000067,   0.000221],\n",
       "                 [  0.      ,  -0.      , ...,  -0.00046 ,   0.000048]],\n",
       "        \n",
       "                [[ -0.      ,  -0.00003 , ...,  -0.      ,  -0.000537],\n",
       "                 [ -0.      ,  -0.000011, ...,  -0.      ,  -0.000464],\n",
       "                 ..., \n",
       "                 [  0.      ,   0.      , ...,   0.000003,  -0.000006],\n",
       "                 [  0.      ,   0.      , ...,   0.000022,  -0.000001]]]]),\n",
       "   coordmap=AffineTransform(\n",
       "             function_domain=CoordinateSystem(coord_names=('i', 'j', 'k', 'l'), name='voxels', coord_dtype=float64),\n",
       "             function_range=CoordinateSystem(coord_names=('scanner-x=L->R', 'scanner-y=P->A', 'scanner-z=I->S', 't'), name='scanner', coord_dtype=float64),\n",
       "             affine=array([[  -4.      ,    0.      ,    0.      ,    0.      ,  124.244003],\n",
       "                           [   0.      ,    3.934535,    0.720723,    0.      , -103.449684],\n",
       "                           [   0.      ,   -0.72072 ,    3.934551,    0.      ,  -33.492859],\n",
       "                           [   0.      ,    0.      ,    0.      ,    1.      ,    0.      ],\n",
       "                           [   0.      ,    0.      ,    0.      ,    0.      ,    1.      ]])\n",
       "          ))]"
      ]
     },
     "execution_count": 21,
     "metadata": {},
     "output_type": "execute_result"
    }
   ],
   "source": [
    "resampled = realigner.resample()\n",
    "resampled"
   ]
  }
 ],
 "metadata": {
  "kernelspec": {
   "display_name": "Python 2",
   "language": "python",
   "name": "python2"
  },
  "language_info": {
   "codemirror_mode": {
    "name": "ipython",
    "version": 2
   },
   "file_extension": ".py",
   "mimetype": "text/x-python",
   "name": "python",
   "nbconvert_exporter": "python",
   "pygments_lexer": "ipython2",
   "version": "2.7.11"
  }
 },
 "nbformat": 4,
 "nbformat_minor": 0
}
