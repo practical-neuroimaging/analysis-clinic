{
 "cells": [
  {
   "cell_type": "markdown",
   "metadata": {},
   "source": [
    "# Combined slice timing and motion correction"
   ]
  },
  {
   "cell_type": "code",
   "execution_count": 1,
   "metadata": {
    "collapsed": true
   },
   "outputs": [],
   "source": [
    "import numpy as np"
   ]
  },
  {
   "cell_type": "code",
   "execution_count": 2,
   "metadata": {
    "collapsed": true
   },
   "outputs": [],
   "source": [
    "# - make numpy print numbers to 4dp only\n",
    "np.set_printoptions(precision=4, suppress=True)"
   ]
  },
  {
   "cell_type": "code",
   "execution_count": 3,
   "metadata": {
    "collapsed": true
   },
   "outputs": [],
   "source": [
    "import matplotlib.pyplot as plt\n",
    "%matplotlib inline\n",
    "# - set gray colormap and nearest neighbor interpolation by default\n",
    "plt.rcParams['image.cmap'] = 'gray'\n",
    "plt.rcParams['image.interpolation'] = 'nearest'"
   ]
  },
  {
   "cell_type": "code",
   "execution_count": 4,
   "metadata": {
    "collapsed": true
   },
   "outputs": [],
   "source": [
    "import nipy"
   ]
  },
  {
   "cell_type": "code",
   "execution_count": 5,
   "metadata": {
    "collapsed": false
   },
   "outputs": [],
   "source": [
    "img = nipy.load_image('ds114_sub009_t2r1.nii')"
   ]
  },
  {
   "cell_type": "code",
   "execution_count": 6,
   "metadata": {
    "collapsed": false
   },
   "outputs": [
    {
     "name": "stdout",
     "output_type": "stream",
     "text": [
      "<class 'nibabel.nifti1.Nifti1Header'> object, endian='<'\n",
      "sizeof_hdr      : 348\n",
      "data_type       : \n",
      "db_name         : ?TR:2500.000 TE:50\n",
      "extents         : 0\n",
      "session_error   : 0\n",
      "regular         : r\n",
      "dim_info        : 0\n",
      "dim             : [  4  64  64  30 173   1   1   1]\n",
      "intent_p1       : 0.0\n",
      "intent_p2       : 0.0\n",
      "intent_p3       : 0.0\n",
      "intent_code     : none\n",
      "datatype        : int16\n",
      "bitpix          : 16\n",
      "slice_start     : 0\n",
      "pixdim          : [-1.   4.   4.   4.   2.5  1.   1.   1. ]\n",
      "vox_offset      : 0.0\n",
      "scl_slope       : nan\n",
      "scl_inter       : nan\n",
      "slice_end       : 0\n",
      "slice_code      : unknown\n",
      "xyzt_units      : 10\n",
      "cal_max         : 0.0\n",
      "cal_min         : 0.0\n",
      "slice_duration  : 0.0\n",
      "toffset         : 0.0\n",
      "glmax           : 255\n",
      "glmin           : 0\n",
      "descrip         : \n",
      "aux_file        : \n",
      "qform_code      : scanner\n",
      "sform_code      : scanner\n",
      "quatern_b       : 0.0\n",
      "quatern_c       : 0.9958999753\n",
      "quatern_d       : -0.0904608666897\n",
      "qoffset_x       : 124.244003296\n",
      "qoffset_y       : -103.449684143\n",
      "qoffset_z       : -33.4928588867\n",
      "srow_x          : [  -4.       0.       0.     124.244]\n",
      "srow_y          : [   0.        3.9345    0.7207 -103.4497]\n",
      "srow_z          : [  0.      -0.7207   3.9346 -33.4929]\n",
      "intent_name     : \n",
      "magic           : n+1\n"
     ]
    }
   ],
   "source": [
    "print(img.metadata['header'])"
   ]
  },
  {
   "cell_type": "code",
   "execution_count": 7,
   "metadata": {
    "collapsed": false
   },
   "outputs": [
    {
     "data": {
      "text/plain": [
       "array([[  -4.    ,    0.    ,    0.    ,    0.    ,  124.244 ],\n",
       "       [   0.    ,    3.9345,    0.7207,    0.    , -103.4497],\n",
       "       [   0.    ,   -0.7207,    3.9346,    0.    ,  -33.4929],\n",
       "       [   0.    ,    0.    ,    0.    ,    2.5   ,    0.    ],\n",
       "       [   0.    ,    0.    ,    0.    ,    0.    ,    1.    ]])"
      ]
     },
     "execution_count": 7,
     "metadata": {},
     "output_type": "execute_result"
    }
   ],
   "source": [
    "img.affine"
   ]
  },
  {
   "cell_type": "code",
   "execution_count": 8,
   "metadata": {
    "collapsed": false
   },
   "outputs": [
    {
     "data": {
      "text/plain": [
       "2.5"
      ]
     },
     "execution_count": 8,
     "metadata": {},
     "output_type": "execute_result"
    }
   ],
   "source": [
    "TR = img.affine[3, 3]\n",
    "TR"
   ]
  },
  {
   "cell_type": "markdown",
   "metadata": {},
   "source": [
    "Drop the first four scans because of the T1 effect:"
   ]
  },
  {
   "cell_type": "code",
   "execution_count": 9,
   "metadata": {
    "collapsed": true
   },
   "outputs": [],
   "source": [
    "img = img[..., 4:]"
   ]
  },
  {
   "cell_type": "code",
   "execution_count": 10,
   "metadata": {
    "collapsed": true
   },
   "outputs": [],
   "source": [
    "import nipy.algorithms.registration as reg"
   ]
  },
  {
   "cell_type": "code",
   "execution_count": 11,
   "metadata": {
    "collapsed": false
   },
   "outputs": [],
   "source": [
    "realigner = reg.SpaceTimeRealign(img, TR, \n",
    "                                slice_times='asc_alt_2_1',\n",
    "                                slice_info=2)"
   ]
  },
  {
   "cell_type": "code",
   "execution_count": 12,
   "metadata": {
    "collapsed": true
   },
   "outputs": [],
   "source": [
    "realigner.estimate()"
   ]
  },
  {
   "cell_type": "code",
   "execution_count": 13,
   "metadata": {
    "collapsed": false
   },
   "outputs": [
    {
     "data": {
      "text/plain": [
       "1"
      ]
     },
     "execution_count": 13,
     "metadata": {},
     "output_type": "execute_result"
    }
   ],
   "source": [
    "transforms = realigner._transforms\n",
    "len(transforms)"
   ]
  },
  {
   "cell_type": "code",
   "execution_count": 14,
   "metadata": {
    "collapsed": false
   },
   "outputs": [
    {
     "data": {
      "text/plain": [
       "169"
      ]
     },
     "execution_count": 14,
     "metadata": {},
     "output_type": "execute_result"
    }
   ],
   "source": [
    "run_0_xforms = transforms[0]\n",
    "len(run_0_xforms)"
   ]
  },
  {
   "cell_type": "code",
   "execution_count": 15,
   "metadata": {
    "collapsed": false
   },
   "outputs": [
    {
     "data": {
      "text/plain": [
       "<nipy.algorithms.registration.affine.Rigid at 0x10cffc990>"
      ]
     },
     "execution_count": 15,
     "metadata": {},
     "output_type": "execute_result"
    }
   ],
   "source": [
    "run_0_xforms[0]"
   ]
  },
  {
   "cell_type": "code",
   "execution_count": 16,
   "metadata": {
    "collapsed": false
   },
   "outputs": [
    {
     "name": "stdout",
     "output_type": "stream",
     "text": [
      "[[ 1.  0.  0.  0.]\n",
      " [ 0.  1.  0.  0.]\n",
      " [ 0.  0.  1.  0.]\n",
      " [ 0.  0.  0.  1.]]\n",
      "[[ 1.     -0.0002 -0.0003  0.0091]\n",
      " [ 0.0002  1.      0.0011  0.0538]\n",
      " [ 0.0003 -0.0011  1.     -0.0132]\n",
      " [ 0.      0.      0.      1.    ]]\n"
     ]
    }
   ],
   "source": [
    "affines = [t.as_affine() for t in run_0_xforms]\n",
    "print(affines[0])\n",
    "print(affines[1])"
   ]
  },
  {
   "cell_type": "code",
   "execution_count": 17,
   "metadata": {
    "collapsed": false
   },
   "outputs": [
    {
     "data": {
      "text/plain": [
       "(169, 3)"
      ]
     },
     "execution_count": 17,
     "metadata": {},
     "output_type": "execute_result"
    }
   ],
   "source": [
    "translations = np.array([aff[:3, 3] for aff in affines])\n",
    "translations.shape"
   ]
  },
  {
   "cell_type": "code",
   "execution_count": 18,
   "metadata": {
    "collapsed": false
   },
   "outputs": [
    {
     "data": {
      "text/plain": [
       "<matplotlib.legend.Legend at 0x10d254e50>"
      ]
     },
     "execution_count": 18,
     "metadata": {},
     "output_type": "execute_result"
    },
    {
     "data": {
      "image/png": "[encoded data removed]",
      "text/plain": [
       "<matplotlib.figure.Figure at 0x10cffcad0>"
      ]
     },
     "metadata": {},
     "output_type": "display_data"
    }
   ],
   "source": [
    "plt.plot(translations[:, 0], label='x trans')\n",
    "plt.plot(translations[:, 1], label='y trans')\n",
    "plt.plot(translations[:, 2], label='z trans')\n",
    "plt.legend()"
   ]
  },
  {
   "cell_type": "code",
   "execution_count": 19,
   "metadata": {
    "collapsed": true
   },
   "outputs": [],
   "source": [
    "rotations = np.array([reg.aff2euler(aff) for aff in affines])"
   ]
  },
  {
   "cell_type": "code",
   "execution_count": 20,
   "metadata": {
    "collapsed": false
   },
   "outputs": [
    {
     "data": {
      "text/plain": [
       "<matplotlib.legend.Legend at 0x10d41cf90>"
      ]
     },
     "execution_count": 20,
     "metadata": {},
     "output_type": "execute_result"
    },
    {
     "data": {
      "image/png": "[encoded data removed]",
      "text/plain": [
       "<matplotlib.figure.Figure at 0x10cffc510>"
      ]
     },
     "metadata": {},
     "output_type": "display_data"
    }
   ],
   "source": [
    "plt.plot(rotations[:, 0], label='pitch')\n",
    "plt.plot(rotations[:, 1], label='roll')\n",
    "plt.plot(rotations[:, 2], label='yaw')\n",
    "plt.legend()"
   ]
  },
  {
   "cell_type": "code",
   "execution_count": 21,
   "metadata": {
    "collapsed": false
   },
   "outputs": [
    {
     "data": {
      "text/plain": [
       "[Image(\n",
       "   data=array([[[[  0.      ,   0.000074, ...,   0.001223,   0.000451],\n",
       "                 [  0.      ,   0.000085, ...,   0.000713,   0.00139 ],\n",
       "                 ..., \n",
       "                 [  0.      ,   0.051973, ...,   0.      ,   0.      ],\n",
       "                 [  0.      ,   0.058917, ...,   0.      ,   0.      ]],\n",
       "        \n",
       "                [[  8.      ,   8.71661 , ...,   6.583106,   6.394012],\n",
       "                 [ 11.      ,   9.945649, ...,   8.784708,  10.17362 ],\n",
       "                 ..., \n",
       "                 [ 19.      ,  19.464961, ...,  20.643561,  16.838666],\n",
       "                 [ 28.      ,  24.86332 , ...,  15.206437,  23.127412]],\n",
       "        \n",
       "                ..., \n",
       "                [[  0.      ,  -0.048842, ...,  -0.406868,  -0.301597],\n",
       "                 [  0.      ,  -0.043405, ...,  -0.406209,  -0.192432],\n",
       "                 ..., \n",
       "                 [  0.      ,  -0.024625, ...,  -0.005714,  -0.000288],\n",
       "                 [  0.      ,  -0.013569, ...,   0.038342,  -0.006008]],\n",
       "        \n",
       "                [[ -0.      ,  -0.      , ...,  -0.      ,  -0.      ],\n",
       "                 [ -0.      ,  -0.      , ...,  -0.      ,  -0.      ],\n",
       "                 ..., \n",
       "                 [ -0.      ,  -0.      , ...,   0.000191,   0.000001],\n",
       "                 [ -0.      ,  -0.      , ...,  -0.001328,   0.00003 ]]],\n",
       "        \n",
       "        \n",
       "               [[[  0.      ,   0.000086, ...,   0.001799,   0.000652],\n",
       "                 [  0.      ,   0.000105, ...,   0.001729,   0.001788],\n",
       "                 ..., \n",
       "                 [  0.      ,   0.036844, ...,  -0.000008,  -0.000009],\n",
       "                 [  0.      ,   0.075552, ...,   0.000986,   0.000757]],\n",
       "        \n",
       "                [[ 10.      ,   9.902349, ...,   6.602728,   6.440884],\n",
       "                 [ 11.      ,  11.012152, ...,   9.631965,  11.075453],\n",
       "                 ..., \n",
       "                 [ 17.      ,  17.718584, ...,  22.037797,  23.378548],\n",
       "                 [ 24.      ,  30.842759, ...,  21.837186,  21.105913]],\n",
       "        \n",
       "                ..., \n",
       "                [[  0.      ,  -0.044215, ...,  -0.354701,  -0.262042],\n",
       "                 [  0.      ,  -0.060916, ...,  -0.400777,  -0.1804  ],\n",
       "                 ..., \n",
       "                 [  0.      ,  -0.052531, ...,   0.002835,  -0.001583],\n",
       "                 [  0.      ,  -0.023526, ...,   0.097566,  -0.012466]],\n",
       "        \n",
       "                [[ -0.      ,  -0.      , ...,  -0.      ,  -0.      ],\n",
       "                 [ -0.      ,  -0.      , ...,  -0.      ,  -0.      ],\n",
       "                 ..., \n",
       "                 [ -0.      ,  -0.      , ...,  -0.000095,   0.000008],\n",
       "                 [ -0.      ,  -0.      , ...,  -0.003409,   0.000068]]],\n",
       "        \n",
       "        \n",
       "               ..., \n",
       "               [[[ -0.      ,  -0.      , ...,  -0.000002,  -0.      ],\n",
       "                 [ -0.      ,   0.      , ...,  -0.      ,  -0.      ],\n",
       "                 ..., \n",
       "                 [  0.      ,   0.033435, ...,  -0.000264,   0.000322],\n",
       "                 [  0.      ,   0.019564, ...,  -0.000798,   0.000842]],\n",
       "        \n",
       "                [[  1.      ,   1.04777 , ...,   1.633978,   1.124336],\n",
       "                 [  1.      ,   1.036284, ...,   0.512691,   1.012195],\n",
       "                 ..., \n",
       "                 [ 22.      ,  22.417286, ...,  18.379556,  17.670943],\n",
       "                 [ 14.      ,  13.580203, ...,  14.135393,  21.798223]],\n",
       "        \n",
       "                ..., \n",
       "                [[  0.      ,   0.010415, ...,  -0.010062,   0.047388],\n",
       "                 [  0.      ,   0.007182, ...,  -0.008081,   0.040032],\n",
       "                 ..., \n",
       "                 [  0.      ,  -0.000027, ...,   0.000723,  -0.002335],\n",
       "                 [  0.      ,   0.000015, ...,   0.005099,  -0.000482]],\n",
       "        \n",
       "                [[ -0.      ,  -0.000034, ...,  -0.      ,  -0.000478],\n",
       "                 [ -0.      ,  -0.000015, ...,  -0.      ,  -0.00048 ],\n",
       "                 ..., \n",
       "                 [  0.      ,   0.      , ...,  -0.000033,   0.000062],\n",
       "                 [  0.      ,   0.      , ...,  -0.00024 ,   0.000013]]],\n",
       "        \n",
       "        \n",
       "               [[[ -0.      ,  -0.      , ...,  -0.000008,  -0.      ],\n",
       "                 [ -0.      ,   0.      , ...,  -0.000009,  -0.      ],\n",
       "                 ..., \n",
       "                 [  0.      ,   0.018632, ...,   0.000026,  -0.000035],\n",
       "                 [  0.      ,   0.024002, ...,   0.00008 ,  -0.000092]],\n",
       "        \n",
       "                [[  1.      ,   0.990233, ...,   1.592472,   1.131596],\n",
       "                 [  1.      ,   0.982282, ...,  -0.393758,   0.963162],\n",
       "                 ..., \n",
       "                 [ 14.      ,  14.482389, ...,  23.795963,  15.14832 ],\n",
       "                 [ 20.      ,  16.539546, ...,  20.393643,   9.952045]],\n",
       "        \n",
       "                ..., \n",
       "                [[  0.      ,   0.009585, ...,  -0.011678,   0.047634],\n",
       "                 [  0.      ,   0.005409, ...,  -0.006573,   0.039161],\n",
       "                 ..., \n",
       "                 [  0.      ,   0.      , ...,  -0.000067,   0.000221],\n",
       "                 [  0.      ,  -0.      , ...,  -0.000461,   0.000048]],\n",
       "        \n",
       "                [[ -0.      ,  -0.00003 , ...,  -0.      ,  -0.000537],\n",
       "                 [ -0.      ,  -0.000011, ...,  -0.      ,  -0.000464],\n",
       "                 ..., \n",
       "                 [  0.      ,   0.      , ...,   0.000003,  -0.000006],\n",
       "                 [  0.      ,   0.      , ...,   0.000022,  -0.000001]]]]),\n",
       "   coordmap=AffineTransform(\n",
       "             function_domain=CoordinateSystem(coord_names=('i', 'j', 'k', 'l'), name='voxels', coord_dtype=float64),\n",
       "             function_range=CoordinateSystem(coord_names=('scanner-x=L->R', 'scanner-y=P->A', 'scanner-z=I->S', 't'), name='scanner', coord_dtype=float64),\n",
       "             affine=array([[  -4.      ,    0.      ,    0.      ,    0.      ,  124.244003],\n",
       "                           [   0.      ,    3.934535,    0.720723,    0.      , -103.449684],\n",
       "                           [   0.      ,   -0.72072 ,    3.934551,    0.      ,  -33.492859],\n",
       "                           [   0.      ,    0.      ,    0.      ,    1.      ,    0.      ],\n",
       "                           [   0.      ,    0.      ,    0.      ,    0.      ,    1.      ]])\n",
       "          ))]"
      ]
     },
     "execution_count": 21,
     "metadata": {},
     "output_type": "execute_result"
    }
   ],
   "source": [
    "resampled = realigner.resample()\n",
    "resampled"
   ]
  }
 ],
 "metadata": {
  "kernelspec": {
   "display_name": "Python 2",
   "language": "python",
   "name": "python2"
  },
  "language_info": {
   "codemirror_mode": {
    "name": "ipython",
    "version": 2
   },
   "file_extension": ".py",
   "mimetype": "text/x-python",
   "name": "python",
   "nbconvert_exporter": "python",
   "pygments_lexer": "ipython2",
   "version": "2.7.11"
  }
 },
 "nbformat": 4,
 "nbformat_minor": 0
}
